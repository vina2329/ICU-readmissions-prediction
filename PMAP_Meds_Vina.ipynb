{
 "cells": [
  {
   "cell_type": "markdown",
   "metadata": {},
   "source": [
    "# PMAP Medication Info Feature Engineering\n",
    "Created: January 17, 2023\\\n",
    "*Last modified: January 29, 2023*\n",
    "\n",
    "This notebook generates two features from medication data:\n",
    "1. Binary flags for the administration of certain drug classes, as defined by each file in the medication_class_names folder. \n",
    "2. Average dosing for medications, based on csv inputs with conversion factors for each possible dose unit, desired target doses, and names/brand names of drugs.\n",
    "\n",
    "Author: Vina Ro"
   ]
  },
  {
   "cell_type": "code",
   "execution_count": 1,
   "metadata": {},
   "outputs": [],
   "source": [
    "# Import packages\n",
    "import numpy as np\n",
    "import pandas as pd\n",
    "import time as time\n",
    "import seaborn as sns\n",
    "import missingno as msno\n",
    "import os\n",
    "import glob\n",
    "from time import time\n",
    "from pathlib import Path\n",
    "import inspect as insp\n",
    "import matplotlib.pyplot as plt"
   ]
  },
  {
   "cell_type": "code",
   "execution_count": 2,
   "metadata": {},
   "outputs": [],
   "source": [
    "# Set filepath\n",
    "file_path = Path('PMAP_Meds.ipynb').resolve()\n",
    "data_path = file_path.parent.parent.parent.parent.parent.joinpath('Data/jbergma8/IRB_271579_Faraday/IRB-271579-v3-DEID-220607-no-ptsd')"
   ]
  },
  {
   "cell_type": "code",
   "execution_count": 4,
   "metadata": {},
   "outputs": [],
   "source": [
    "# Import data\n",
    "med_admin          = pd.read_csv(data_path / 'med_admin.csv',\n",
    "                                 usecols = ['osler_sid','pat_enc_csn_sid','medication_name','taken_time','mar_action', 'route', 'sig','dose_unit'],\n",
    "                                 parse_dates = ['taken_time'])\n",
    "#med_admin_updated  = pd.read_csv(data_path / 'med_admin_updated.csv',\n",
    "#                                 usecols = ['osler_sid','pat_enc_csn_sid','medication_name','taken_time','mar_action', 'route', 'sig','dose_unit'],\n",
    "#                                 parse_dates = ['taken_time'])\n",
    "#med_orders         = pd.read_csv(data_path / 'med_orders.csv')\n",
    "weights            = pd.read_csv('weights.csv')\n",
    "CHF_hosp_icu_stays = pd.read_csv('CHF_hosp_icu_stays.csv',parse_dates=['hosp_admsn_time','hosp_disch_time'])"
   ]
  },
  {
   "cell_type": "markdown",
   "metadata": {},
   "source": [
    "## Data Cleaning"
   ]
  },
  {
   "cell_type": "code",
   "execution_count": 5,
   "metadata": {},
   "outputs": [],
   "source": [
    "# Remove admins where it wasn't a real admin\n",
    "keep_actions = ['Given','Rate Verify','New Bag','Handoff','Rate/Dose Verify','Rate Change','Stopped']\n",
    "med_admin = med_admin[med_admin.mar_action.isin(keep_actions)]\n",
    "\n",
    "# Extract medication data for our cohort\n",
    "CHF_hosp_med_admin = pd.merge(left = CHF_hosp_icu_stays[['osler_sid','pat_enc_csn_sid','hosp_admsn_time','hosp_disch_time']],\n",
    "                              right = med_admin,\n",
    "                              how = 'left',\n",
    "                              on = ['osler_sid','pat_enc_csn_sid'])\n",
    "\n",
    "# Taken medication time needs to be within hospital admission period\n",
    "CHF_hosp_med_admin = CHF_hosp_med_admin[CHF_hosp_med_admin.taken_time.between(CHF_hosp_med_admin.hosp_admsn_time, CHF_hosp_med_admin.hosp_disch_time)]\n",
    "CHF_hosp_med_admin['medication_name'] = CHF_hosp_med_admin['medication_name'].str.lower()\n",
    "CHF_hosp_med_admin = CHF_hosp_med_admin.sort_values(['osler_sid','hosp_admsn_time','taken_time'])\n",
    "\n",
    "# Get list of filenames in specified folder\n",
    "all_drug_classes = sorted(glob.glob(\"./medication_class_name/*\"))\n",
    "all_drug_doses = sorted(glob.glob(\"./medication_names_dose/*\"))"
   ]
  },
  {
   "cell_type": "markdown",
   "metadata": {},
   "source": [
    "### Investigate relationship between medication names and routes to fill in missing route values"
   ]
  },
  {
   "cell_type": "code",
   "execution_count": 92,
   "metadata": {},
   "outputs": [
    {
     "data": {
      "image/png": "[encoded data removed]",
      "text/plain": [
       "<Figure size 360x360 with 2 Axes>"
      ]
     },
     "metadata": {
      "needs_background": "light"
     },
     "output_type": "display_data"
    }
   ],
   "source": [
    "msno.matrix(CHF_hosp_med_admin, figsize = (5,5))\n",
    "plt.show()"
   ]
  },
  {
   "cell_type": "code",
   "execution_count": 119,
   "metadata": {},
   "outputs": [],
   "source": [
    "med_dict = {}\n",
    "for i in range(len(all_drug_doses)):\n",
    "    drug_name = all_drug_doses[i].split('/')[-1]\n",
    "    drug_name = drug_name.split('.')[0]\n",
    "    drug = pd.read_csv('./medication_names_dose/' + drug_name + '.csv', squeeze = True)\n",
    "    druglist = drug.str.lower().str.strip().to_list()\n",
    "    # print(drug_name)\n",
    "    admins = CHF_hosp_med_admin[CHF_hosp_med_admin['medication_name'].str.contains('|'.join(druglist))]\n",
    "    med_dict[drug_name] = [len(admins[admins.route.isnull()]), len(admins)]"
   ]
  },
  {
   "cell_type": "code",
   "execution_count": 132,
   "metadata": {},
   "outputs": [
    {
     "data": {
      "text/html": [
       "<div>\n",
       "<style scoped>\n",
       "    .dataframe tbody tr th:only-of-type {\n",
       "        vertical-align: middle;\n",
       "    }\n",
       "\n",
       "    .dataframe tbody tr th {\n",
       "        vertical-align: top;\n",
       "    }\n",
       "\n",
       "    .dataframe thead th {\n",
       "        text-align: right;\n",
       "    }\n",
       "</style>\n",
       "<table border=\"1\" class=\"dataframe\">\n",
       "  <thead>\n",
       "    <tr style=\"text-align: right;\">\n",
       "      <th></th>\n",
       "      <th>missing count</th>\n",
       "      <th>total count</th>\n",
       "      <th>prop (%)</th>\n",
       "    </tr>\n",
       "  </thead>\n",
       "  <tbody>\n",
       "    <tr>\n",
       "      <th>mannitol</th>\n",
       "      <td>12</td>\n",
       "      <td>90</td>\n",
       "      <td>13.333333</td>\n",
       "    </tr>\n",
       "    <tr>\n",
       "      <th>etomidate</th>\n",
       "      <td>29</td>\n",
       "      <td>269</td>\n",
       "      <td>10.780669</td>\n",
       "    </tr>\n",
       "    <tr>\n",
       "      <th>phenylephrine</th>\n",
       "      <td>259</td>\n",
       "      <td>5154</td>\n",
       "      <td>5.025223</td>\n",
       "    </tr>\n",
       "    <tr>\n",
       "      <th>midazolam</th>\n",
       "      <td>198</td>\n",
       "      <td>10065</td>\n",
       "      <td>1.967213</td>\n",
       "    </tr>\n",
       "    <tr>\n",
       "      <th>isoproterenol</th>\n",
       "      <td>4</td>\n",
       "      <td>270</td>\n",
       "      <td>1.481481</td>\n",
       "    </tr>\n",
       "    <tr>\n",
       "      <th>nitroprusside</th>\n",
       "      <td>182</td>\n",
       "      <td>13528</td>\n",
       "      <td>1.345358</td>\n",
       "    </tr>\n",
       "    <tr>\n",
       "      <th>nitroglycerin</th>\n",
       "      <td>182</td>\n",
       "      <td>13528</td>\n",
       "      <td>1.345358</td>\n",
       "    </tr>\n",
       "    <tr>\n",
       "      <th>lorazepam</th>\n",
       "      <td>84</td>\n",
       "      <td>6631</td>\n",
       "      <td>1.266777</td>\n",
       "    </tr>\n",
       "    <tr>\n",
       "      <th>dopamine</th>\n",
       "      <td>90</td>\n",
       "      <td>7450</td>\n",
       "      <td>1.208054</td>\n",
       "    </tr>\n",
       "    <tr>\n",
       "      <th>vasopressin</th>\n",
       "      <td>167</td>\n",
       "      <td>15212</td>\n",
       "      <td>1.097818</td>\n",
       "    </tr>\n",
       "    <tr>\n",
       "      <th>propofol</th>\n",
       "      <td>250</td>\n",
       "      <td>24267</td>\n",
       "      <td>1.030206</td>\n",
       "    </tr>\n",
       "    <tr>\n",
       "      <th>epinephrine</th>\n",
       "      <td>947</td>\n",
       "      <td>149494</td>\n",
       "      <td>0.633470</td>\n",
       "    </tr>\n",
       "    <tr>\n",
       "      <th>fentanyl</th>\n",
       "      <td>393</td>\n",
       "      <td>62245</td>\n",
       "      <td>0.631376</td>\n",
       "    </tr>\n",
       "    <tr>\n",
       "      <th>labetalol</th>\n",
       "      <td>36</td>\n",
       "      <td>5820</td>\n",
       "      <td>0.618557</td>\n",
       "    </tr>\n",
       "    <tr>\n",
       "      <th>morphine</th>\n",
       "      <td>20</td>\n",
       "      <td>3258</td>\n",
       "      <td>0.613874</td>\n",
       "    </tr>\n",
       "    <tr>\n",
       "      <th>norepinephrine</th>\n",
       "      <td>656</td>\n",
       "      <td>117984</td>\n",
       "      <td>0.556008</td>\n",
       "    </tr>\n",
       "    <tr>\n",
       "      <th>nicardipine</th>\n",
       "      <td>54</td>\n",
       "      <td>10300</td>\n",
       "      <td>0.524272</td>\n",
       "    </tr>\n",
       "    <tr>\n",
       "      <th>fosphenytoin</th>\n",
       "      <td>2</td>\n",
       "      <td>433</td>\n",
       "      <td>0.461894</td>\n",
       "    </tr>\n",
       "    <tr>\n",
       "      <th>methylprednisolone</th>\n",
       "      <td>10</td>\n",
       "      <td>3203</td>\n",
       "      <td>0.312207</td>\n",
       "    </tr>\n",
       "    <tr>\n",
       "      <th>triamcinolone</th>\n",
       "      <td>3</td>\n",
       "      <td>1185</td>\n",
       "      <td>0.253165</td>\n",
       "    </tr>\n",
       "    <tr>\n",
       "      <th>hydralazine</th>\n",
       "      <td>65</td>\n",
       "      <td>26251</td>\n",
       "      <td>0.247610</td>\n",
       "    </tr>\n",
       "    <tr>\n",
       "      <th>diazepam</th>\n",
       "      <td>4</td>\n",
       "      <td>2115</td>\n",
       "      <td>0.189125</td>\n",
       "    </tr>\n",
       "    <tr>\n",
       "      <th>phenytoin</th>\n",
       "      <td>2</td>\n",
       "      <td>1063</td>\n",
       "      <td>0.188147</td>\n",
       "    </tr>\n",
       "    <tr>\n",
       "      <th>dobutamine</th>\n",
       "      <td>26</td>\n",
       "      <td>14430</td>\n",
       "      <td>0.180180</td>\n",
       "    </tr>\n",
       "    <tr>\n",
       "      <th>ketamine</th>\n",
       "      <td>7</td>\n",
       "      <td>3936</td>\n",
       "      <td>0.177846</td>\n",
       "    </tr>\n",
       "    <tr>\n",
       "      <th>dexamethasone</th>\n",
       "      <td>7</td>\n",
       "      <td>4785</td>\n",
       "      <td>0.146290</td>\n",
       "    </tr>\n",
       "    <tr>\n",
       "      <th>oxycodone</th>\n",
       "      <td>56</td>\n",
       "      <td>51375</td>\n",
       "      <td>0.109002</td>\n",
       "    </tr>\n",
       "    <tr>\n",
       "      <th>hydromorphone</th>\n",
       "      <td>33</td>\n",
       "      <td>31616</td>\n",
       "      <td>0.104378</td>\n",
       "    </tr>\n",
       "    <tr>\n",
       "      <th>cortisone</th>\n",
       "      <td>6</td>\n",
       "      <td>9043</td>\n",
       "      <td>0.066350</td>\n",
       "    </tr>\n",
       "    <tr>\n",
       "      <th>levetiracetam</th>\n",
       "      <td>6</td>\n",
       "      <td>12687</td>\n",
       "      <td>0.047293</td>\n",
       "    </tr>\n",
       "    <tr>\n",
       "      <th>milrinone</th>\n",
       "      <td>6</td>\n",
       "      <td>13771</td>\n",
       "      <td>0.043570</td>\n",
       "    </tr>\n",
       "    <tr>\n",
       "      <th>gabapentin</th>\n",
       "      <td>4</td>\n",
       "      <td>28046</td>\n",
       "      <td>0.014262</td>\n",
       "    </tr>\n",
       "    <tr>\n",
       "      <th>lacosamide</th>\n",
       "      <td>0</td>\n",
       "      <td>3841</td>\n",
       "      <td>0.000000</td>\n",
       "    </tr>\n",
       "    <tr>\n",
       "      <th>phenobarbital</th>\n",
       "      <td>0</td>\n",
       "      <td>902</td>\n",
       "      <td>0.000000</td>\n",
       "    </tr>\n",
       "    <tr>\n",
       "      <th>dexmedetomidine</th>\n",
       "      <td>0</td>\n",
       "      <td>32766</td>\n",
       "      <td>0.000000</td>\n",
       "    </tr>\n",
       "    <tr>\n",
       "      <th>prednisone</th>\n",
       "      <td>0</td>\n",
       "      <td>11536</td>\n",
       "      <td>0.000000</td>\n",
       "    </tr>\n",
       "    <tr>\n",
       "      <th>pregabalin</th>\n",
       "      <td>0</td>\n",
       "      <td>4024</td>\n",
       "      <td>0.000000</td>\n",
       "    </tr>\n",
       "    <tr>\n",
       "      <th>nesiritide</th>\n",
       "      <td>0</td>\n",
       "      <td>46</td>\n",
       "      <td>0.000000</td>\n",
       "    </tr>\n",
       "    <tr>\n",
       "      <th>remifentanil</th>\n",
       "      <td>0</td>\n",
       "      <td>32</td>\n",
       "      <td>0.000000</td>\n",
       "    </tr>\n",
       "    <tr>\n",
       "      <th>riociguat</th>\n",
       "      <td>0</td>\n",
       "      <td>13</td>\n",
       "      <td>0.000000</td>\n",
       "    </tr>\n",
       "    <tr>\n",
       "      <th>valproate</th>\n",
       "      <td>0</td>\n",
       "      <td>1155</td>\n",
       "      <td>0.000000</td>\n",
       "    </tr>\n",
       "    <tr>\n",
       "      <th>betamethasone</th>\n",
       "      <td>0</td>\n",
       "      <td>258</td>\n",
       "      <td>0.000000</td>\n",
       "    </tr>\n",
       "  </tbody>\n",
       "</table>\n",
       "</div>"
      ],
      "text/plain": [
       "                    missing count  total count   prop (%)\n",
       "mannitol                       12           90  13.333333\n",
       "etomidate                      29          269  10.780669\n",
       "phenylephrine                 259         5154   5.025223\n",
       "midazolam                     198        10065   1.967213\n",
       "isoproterenol                   4          270   1.481481\n",
       "nitroprusside                 182        13528   1.345358\n",
       "nitroglycerin                 182        13528   1.345358\n",
       "lorazepam                      84         6631   1.266777\n",
       "dopamine                       90         7450   1.208054\n",
       "vasopressin                   167        15212   1.097818\n",
       "propofol                      250        24267   1.030206\n",
       "epinephrine                   947       149494   0.633470\n",
       "fentanyl                      393        62245   0.631376\n",
       "labetalol                      36         5820   0.618557\n",
       "morphine                       20         3258   0.613874\n",
       "norepinephrine                656       117984   0.556008\n",
       "nicardipine                    54        10300   0.524272\n",
       "fosphenytoin                    2          433   0.461894\n",
       "methylprednisolone             10         3203   0.312207\n",
       "triamcinolone                   3         1185   0.253165\n",
       "hydralazine                    65        26251   0.247610\n",
       "diazepam                        4         2115   0.189125\n",
       "phenytoin                       2         1063   0.188147\n",
       "dobutamine                     26        14430   0.180180\n",
       "ketamine                        7         3936   0.177846\n",
       "dexamethasone                   7         4785   0.146290\n",
       "oxycodone                      56        51375   0.109002\n",
       "hydromorphone                  33        31616   0.104378\n",
       "cortisone                       6         9043   0.066350\n",
       "levetiracetam                   6        12687   0.047293\n",
       "milrinone                       6        13771   0.043570\n",
       "gabapentin                      4        28046   0.014262\n",
       "lacosamide                      0         3841   0.000000\n",
       "phenobarbital                   0          902   0.000000\n",
       "dexmedetomidine                 0        32766   0.000000\n",
       "prednisone                      0        11536   0.000000\n",
       "pregabalin                      0         4024   0.000000\n",
       "nesiritide                      0           46   0.000000\n",
       "remifentanil                    0           32   0.000000\n",
       "riociguat                       0           13   0.000000\n",
       "valproate                       0         1155   0.000000\n",
       "betamethasone                   0          258   0.000000"
      ]
     },
     "execution_count": 132,
     "metadata": {},
     "output_type": "execute_result"
    }
   ],
   "source": [
    "df = pd.DataFrame.from_dict(med_dict, orient = 'index', columns = ['missing count', 'total count'])\n",
    "df['prop (%)'] = df['missing count'] / df['total count']*100\n",
    "df.sort_values('prop (%)', ascending = False)"
   ]
  },
  {
   "cell_type": "markdown",
   "metadata": {},
   "source": [
    "We can see from the above that the top 3 medications with most missing values are **mannitol**, **etomidate**, and **phenylephrine**. \\\n",
    "Hence we'll start with filling the missing values for these three meds in the function by making a dictionary that maps missing values."
   ]
  },
  {
   "cell_type": "code",
   "execution_count": 137,
   "metadata": {},
   "outputs": [
    {
     "name": "stdout",
     "output_type": "stream",
     "text": [
      "mannitol-----------------\n",
      "{'Intravenous': ['mannitol 25 % intravenous solution', 'zoledronic acid 4 mg/100 ml-mannitol-0.9 % nacl intravenous piggyback', 'mannitol 20 % intravenous solution'], 'Extracorporeal': ['mannitol 25 % intravenous solution'], nan: []}\n",
      "med names w missing route values:\n",
      "['mannitol 25 % intravenous solution']\n",
      "etomidate-----------------\n",
      "{'Intravenous': ['etomidate 2 mg/ml intravenous solution'], nan: [], 'Intraosseous': ['etomidate 2 mg/ml intravenous solution']}\n",
      "med names w missing route values:\n",
      "['etomidate 2 mg/ml intravenous solution']\n",
      "phenylephrine-----------------\n",
      "{'Intravenous': ['phenylephrine 1 mg/10 ml (100 mcg/ml) in 0.9 % sod.chloride iv syringe', 'phenylephrine 1 mg/10 ml (100 mcg/ml) swfi syringe', 'phenylephrine 10 mg/ml injection solution', 'phenylephrine 40 mcg/ml in ns (jhh ped)', 'phenylephrine infusion 20 mg/250 ml ns (jhh)'], nan: [], 'Continuous IV Infusion': ['phenylephrine infusion 20 mg/250 ml ns (jhh)', 'phenylephrine infusion 40 mg/250 ml ns (jhbmc-jhh)', 'phenylephrine infusion 200 mg/250 ml ns (bmc-jhh)'], 'Extracorporeal': ['phenylephrine 10 mg/ml injection solution'], 'Intravenous (Continuous Infusion)': ['phenylephrine infusion 20 mg/250 ml ns (jhh-bmc)', 'phenylephrine infusion 40 mg/250 ml ns (jhbmc-jhh)', 'phenylephrine infusion 20 mg/250 ml ns (jhh adult ed pyxis)'], 'Both Eyes': ['phenylephrine 2.5 % eye drops (per drop)', 'phenylephrine 2.5 % eye drops'], 'Injection': ['phenylephrine 1 mg/10 ml (100 mcg/ml) in 0.9 % sod.chloride iv syringe', 'phenylephrine 10 mg/ml injection solution'], 'intravenous push': ['phenylephrine 1 mg/10 ml (100 mcg/ml) in 0.9 % sod.chloride iv syringe'], 'Right Eye': ['phenylephrine 2.5 % eye drops'], 'Left Eye': ['phenylephrine 2.5 % eye drops', 'phenylephrine 2.5 % eye drops (per drop)'], 'Intracavernosal': ['phenylephrine 1 mg/10 ml (100 mcg/ml) syringe intracavernosal']}\n",
      "med names w missing route values:\n",
      "['phenylephrine 10 mg/ml injection solution', 'phenylephrine 1 mg/10 ml (100 mcg/ml) in 0.9 % sod.chloride iv syringe', 'phenylephrine 1 mg/10 ml (100 mcg/ml) swfi syringe', 'phenylephrine infusion 20 mg/250 ml ns (jhh)']\n"
     ]
    }
   ],
   "source": [
    "top_3_drugs = ['mannitol','etomidate','phenylephrine']\n",
    "for i in range(len(top_3_drugs)):\n",
    "    med_dict = {}\n",
    "    drug_name = top_3_drugs[i]\n",
    "    print(drug_name + '-----------------')\n",
    "    drug = pd.read_csv('./medication_names_dose/' + drug_name + '.csv', squeeze = True)\n",
    "    druglist = drug.str.lower().str.strip().to_list()\n",
    "    admins = CHF_hosp_med_admin[CHF_hosp_med_admin['medication_name'].str.contains('|'.join(druglist))]\n",
    "    for x in admins.route.unique():\n",
    "        med_dict[x] = list(admins[admins.route == x]['medication_name'].unique())\n",
    "    print(med_dict)\n",
    "    print('med names w missing route values:')\n",
    "    print(list(admins[admins.route.isnull()]['medication_name'].unique()))"
   ]
  },
  {
   "cell_type": "markdown",
   "metadata": {},
   "source": [
    "By printing out all the medication names whose route values are missing, we can see that they all map to a certain routes for other entries with an identical medication name."
   ]
  },
  {
   "cell_type": "markdown",
   "metadata": {},
   "source": [
    "## Functions"
   ]
  },
  {
   "cell_type": "code",
   "execution_count": 6,
   "metadata": {},
   "outputs": [],
   "source": [
    "def convert_units(convs, val, unit, weight, minutes):\n",
    "    '''\n",
    "    This function takes in unit conversion dictionary, value amount, dose unit, closest weight in kg, and time length of admin\n",
    "    '''\n",
    "    conv_factor = convs.get('conv_factor').get(unit)\n",
    "    multiply_time = convs.get('multiply_min').get(unit)\n",
    "\n",
    "    # If desired unit divides by weight.\n",
    "    divide_kg = convs.get('divide_kg')\n",
    "    if divide_kg == None:\n",
    "        divide_kg = 0\n",
    "    else :\n",
    "        divide_kg = divide_kg.get(unit)\n",
    "\n",
    "    # If desired unit is not divided by weight. \n",
    "    multiply_kg = convs.get('multiply_kg')\n",
    "    if multiply_kg == None:\n",
    "        multiply_kg = 0\n",
    "    else :\n",
    "        multiply_kg = multiply_kg.get(unit) \n",
    "\n",
    "    # Apply conversion factors and adjustments.\n",
    "    try:\n",
    "        val = val * conv_factor\n",
    "    except:\n",
    "        print(\"Unit: \", unit)\n",
    "        print(type(val))\n",
    "        print(val)\n",
    "        print(type(conv_factor))\n",
    "        print(conv_factor)\n",
    "\n",
    "    if divide_kg == 1: # Needs to divide by patient weight\n",
    "        val = val / weight\n",
    "    if multiply_kg == 1:\n",
    "        val = val * weight # Needs to multiply by patient weight\n",
    "    if multiply_time == 1:\n",
    "        val = val * multiply_time\n",
    "    return val"
   ]
  },
  {
   "cell_type": "code",
   "execution_count": 7,
   "metadata": {},
   "outputs": [],
   "source": [
    "def get_min_to_next(curr_pat_id, next_pat_id, curr_enc_id, next_enc_id, taken_time, next_taken_time, hosp_disch_time):\n",
    "    '''\n",
    "    This function finds the time to the next admin, or the end of the ICU stay if it's the last admin of the encounter. \n",
    "    '''\n",
    "    # Check if next admin is same encounter or not. \n",
    "    if (curr_pat_id == next_pat_id) & (curr_enc_id == next_enc_id):\n",
    "        return (next_taken_time - taken_time).total_seconds()/60\n",
    "    else:\n",
    "        return(hosp_disch_time - taken_time).total_seconds()/60"
   ]
  },
  {
   "cell_type": "code",
   "execution_count": 8,
   "metadata": {},
   "outputs": [],
   "source": [
    "def get_feat(df_hosp_orig, df_meds):\n",
    "    '''\n",
    "    This function adds columns to the original dataframe with binary flags for each medication class for each hospital stay.\n",
    "    '''\n",
    "    df_hosp = df_hosp_orig.copy()\n",
    "    for i in range(len(all_drugs_classes)):\n",
    "        drug = pd.read_csv(all_drugs_classes[i])\n",
    "        drug_name = drug.columns.values[0]\n",
    "        drug_list = list(drug[drug_name].str.lower())\n",
    "\n",
    "        # Only keep rows where sugars are not being used as a solvent\n",
    "        if drug_name == 'Sugars':\n",
    "            df_meds = df_meds[~df_meds['medication_name'].str.contains('piggyback|in dextrose|in 5% dextrose')]\n",
    "\n",
    "        # Subset dataframe for specific medications in the current medication class\n",
    "        temp = df_meds[df_meds['medication_name'].str.contains('|'.join(drug_list), na = False)]\n",
    "        df_hosp[drug_name] = df_hosp['pat_enc_csn_sid'].isin(temp.pat_enc_csn_sid).astype(int)\n",
    "    return df_hosp"
   ]
  },
  {
   "cell_type": "code",
   "execution_count": 9,
   "metadata": {},
   "outputs": [],
   "source": [
    "def get_feat_wRoute(df_hosp_orig, df_meds):\n",
    "    '''\n",
    "    This function adds columns to the original dataframe with binary flags for each medication class and categorized to different routes for each hospital stay.\n",
    "    '''\n",
    "    df_hosp = df_hosp_orig.copy()\n",
    "    for i in range(len(all_drugs_classes)):\n",
    "        drug = pd.read_csv(all_drugs_classes[i])\n",
    "        drug_name = drug.columns.values[0]\n",
    "        drug_list = list(drug[drug_name].str.lower())\n",
    "\n",
    "        # Only keep rows where sugars are not being used as a solvent\n",
    "        if drug_name == 'Sugars':\n",
    "            df_meds = df_meds[~df_meds['medication_name'].str.contains('piggyback|in dextrose|in 5% dextrose')]\n",
    "\n",
    "        # Subset dataframe for specific medications in the current medication class\n",
    "        temp = df_meds[df_meds['medication_name'].str.contains('|'.join(drug_list), na = False)]\n",
    "\n",
    "        for routes in temp.route.unique():\n",
    "            feat = temp[temp.route == routes]['pat_enc_csn_sid'].unique()\n",
    "            df_hosp[drug_name + '_{}'.format(routes)] = df_hosp['pat_enc_csn_sid'].isin(feat).astype(int)\n",
    "    return df_hosp"
   ]
  },
  {
   "cell_type": "code",
   "execution_count": 122,
   "metadata": {},
   "outputs": [],
   "source": [
    "def get_drug_dosage_feat(drug_name, df_cohort):\n",
    "    \n",
    "    print(drug_name)\n",
    "    inp = df_cohort.copy()\n",
    "    result = CHF_hosp_icu_stays[['osler_sid','pat_enc_csn_sid']].copy()\n",
    "\n",
    "    #admins = CHF_hosp_med_admin.copy()\n",
    "    \n",
    "    drug = pd.read_csv('./medication_names_dose/' + drug_name + '.csv', squeeze = True)\n",
    "    druglist = drug.str.lower().str.strip().to_list()\n",
    "    \n",
    "    # Get hosp length of stay (LOS) in minutes.\n",
    "    inp['LOS'] = (inp['hosp_disch_time'] - inp['hosp_admsn_time']).dt.total_seconds()/60 # in minutes\n",
    "\n",
    "    admins = CHF_hosp_med_admin[CHF_hosp_med_admin['medication_name'].str.contains('|'.join(druglist))]\n",
    "\n",
    "    if admins.shape[0] == 0:\n",
    "        print(drug_name + ' has no admins')\n",
    "        return 'no admins'\n",
    "\n",
    "    admins = admins.dropna(subset=['sig','dose_unit']).copy()\n",
    "    # Drop admins that have \"mL\" as dose unit. \n",
    "    admins = admins[~(admins['dose_unit']=='mL')].copy()\n",
    "\n",
    "    # Get minutes between admins.\n",
    "    admins = admins.merge(inp[['osler_sid','pat_enc_csn_sid','LOS']], on=['osler_sid','pat_enc_csn_sid'], how='left')\n",
    "\n",
    "    if(drug_name in(['ketamine'])):\n",
    "        admins['dose_unit'] = admins['dose_unit'].str.replace(' PCA', '')\n",
    "\n",
    "    # Find correct dose units. \n",
    "    med_unit = pd.read_csv('./medication_dose_convs/med_units.csv')\n",
    "    med_unit.set_index('drugname', inplace=True)\n",
    "\n",
    "    #Get dose units string.\n",
    "    target_unit = med_unit.loc[drug_name,'unit']\n",
    "    target_unit_str = ''.join(target_unit.split('/')[0:-1]) #mcg\n",
    "\n",
    "    unit_convs = pd.read_csv('./medication_dose_convs/all_med_doses_units_'+ target_unit_str + '.csv')\n",
    "    unit_convs.set_index('index', inplace=True)\n",
    "    unit_convs = unit_convs.to_dict()\n",
    "\n",
    "    # Do the above for medications but not specified by given routes\n",
    "    admins['next_taken_time'] = admins['taken_time'].shift(periods = -1)\n",
    "    admins['next_osler_sid'] = admins['osler_sid'].shift(periods = -1)\n",
    "    admins['next_pat_enc_csn_sid'] = admins['pat_enc_csn_sid'].shift(periods = -1)\n",
    "\n",
    "    admins['min_to_next'] = admins.apply(lambda row: get_min_to_next(row['osler_sid'], row['next_osler_sid'], row['pat_enc_csn_sid'], row['next_pat_enc_csn_sid'],\n",
    "                                                                     row['taken_time'], row['next_taken_time'], row['hosp_disch_time']), axis = 1)\n",
    "    # Get weights (already extracted from most recent)\n",
    "    admins = pd.merge(left = admins, right = weights , on = ['osler_sid','pat_enc_csn_sid'])\n",
    "\n",
    "    admins['dose'] = admins.apply(lambda row: convert_units(unit_convs, row['sig'], row['dose_unit'],row['weight'], row['min_to_next']), axis = 1)\n",
    "    admins['dose_by_time'] = admins['dose'] * admins['min_to_next']\n",
    "    admins = admins.groupby(['osler_sid', 'pat_enc_csn_sid'], as_index = False).sum()\n",
    "    admins['average_dose_' + drug_name ] = admins['dose_by_time'] / admins['LOS']\n",
    "    result = result.merge(admins[['osler_sid','pat_enc_csn_sid','average_dose_' + drug_name]], on = ['osler_sid','pat_enc_csn_sid'], how = 'left')\n",
    "    \n",
    "    return result"
   ]
  },
  {
   "cell_type": "code",
   "execution_count": 125,
   "metadata": {},
   "outputs": [],
   "source": [
    "def get_drug_dosage_featwRoute(drug_name, df_cohort):\n",
    "    \n",
    "    print(drug_name)\n",
    "    inp = df_cohort.copy()\n",
    "    result = CHF_hosp_icu_stays[['osler_sid','pat_enc_csn_sid']].copy()\n",
    "\n",
    "    #admins = CHF_hosp_med_admin.copy()\n",
    "    \n",
    "    drug = pd.read_csv('./medication_names_dose/' + drug_name + '.csv', squeeze = True)\n",
    "    druglist = drug.str.lower().str.strip().to_list()\n",
    "    \n",
    "    # Get hosp length of stay (LOS) in minutes.\n",
    "    inp['LOS'] = (inp['hosp_disch_time'] - inp['hosp_admsn_time']).dt.total_seconds()/60 # in minutes\n",
    "\n",
    "    admins = CHF_hosp_med_admin[CHF_hosp_med_admin['medication_name'].str.contains('|'.join(druglist))]\n",
    "\n",
    "    if admins.shape[0] == 0:\n",
    "        print(drug_name + ' has no admins')\n",
    "        return 'no admins'\n",
    "\n",
    "    admins = admins.dropna(subset=['sig','dose_unit','route']).copy()\n",
    "    # Drop admins that have \"mL\" as dose unit. \n",
    "    admins = admins[~(admins['dose_unit']=='mL')].copy()\n",
    "\n",
    "    # Get minutes between admins.\n",
    "    admins = admins.merge(inp[['osler_sid','pat_enc_csn_sid','LOS']], on=['osler_sid','pat_enc_csn_sid'], how='left')\n",
    "\n",
    "    if(drug_name in(['ketamine'])):\n",
    "        admins['dose_unit'] = admins['dose_unit'].str.replace(' PCA', '')\n",
    "\n",
    "    # Find correct dose units. \n",
    "    med_unit = pd.read_csv('./medication_dose_convs/med_units.csv')\n",
    "\n",
    "    # Set index\n",
    "    med_unit.set_index('drugname', inplace=True)\n",
    "\n",
    "    #Get dose units string.\n",
    "    target_unit = med_unit.loc[drug_name,'unit']\n",
    "    target_unit_str = ''.join(target_unit.split('/')[0:-1]) #mcg\n",
    "\n",
    "    unit_convs = pd.read_csv('./medication_dose_convs/all_med_doses_units_'+ target_unit_str + '.csv')\n",
    "    unit_convs.set_index('index', inplace=True)\n",
    "    unit_convs = unit_convs.to_dict()\n",
    "    \n",
    "    for rte in admins['route'].unique():\n",
    "        # For each route, get the subset of admins\n",
    "        admins_rte = admins[admins['route'] == rte].copy()\n",
    "        \n",
    "        # Perform shift operations to get all med administrations in chronological order\n",
    "        admins_rte['next_taken_time'] = admins_rte['taken_time'].shift(periods = -1)\n",
    "        admins_rte['next_osler_sid'] = admins_rte['osler_sid'].shift(periods = -1)\n",
    "        admins_rte['next_pat_enc_csn_sid'] = admins_rte['pat_enc_csn_sid'].shift(periods=-1)\n",
    "\n",
    "        # check if the route has any administrations in the timeframe\n",
    "        if admins_rte.shape[0] == 0:\n",
    "            #print(drug_name)\n",
    "            #print(rte)\n",
    "            print(drug_name + ' ' + rte + ' has no admins in this timeframe')\n",
    "            continue\n",
    "\n",
    "        # Find mins to next medication administration\n",
    "        admins_rte['min_to_next'] = admins_rte.apply(lambda row: get_min_to_next(row['osler_sid'], row['next_osler_sid'], row['pat_enc_csn_sid'], row['next_pat_enc_csn_sid'],\n",
    "                                                                                 row['taken_time'], row['next_taken_time'], row['hosp_disch_time']), axis = 1)\n",
    "\n",
    "        admins_rte = pd.merge(left = admins_rte, right = weights , on = ['osler_sid','pat_enc_csn_sid'])\n",
    "\n",
    "        # Convert units of medication (sig -> dose)\n",
    "        admins_rte['dose'] = admins_rte.apply(lambda row: convert_units(unit_convs, row['sig'], row['dose_unit'],row['weight'], row['min_to_next']), axis = 1)\n",
    "\n",
    "        # For each admin, multiply the dose per weight by time. \n",
    "        admins_rte['dose_by_time'] = admins_rte['dose'] * admins_rte['min_to_next']\n",
    "\n",
    "        # Add up all doses of those for the whole ICU stay, then divide by length of ICU stay to get average dose/weight over whole stay.\n",
    "        admins_rte = admins_rte.groupby(['osler_sid', 'pat_enc_csn_sid'], as_index = False).sum()\n",
    "        admins_rte['average_dose_' + drug_name + '_' + rte] = admins_rte['dose_by_time'] / admins_rte['LOS']\n",
    "        result = result.merge(admins_rte[['osler_sid','pat_enc_csn_sid','average_dose_' + drug_name + '_' + rte]], on = ['osler_sid','pat_enc_csn_sid'], how = 'outer')\n",
    "    \n",
    "    return result"
   ]
  },
  {
   "cell_type": "markdown",
   "metadata": {},
   "source": [
    "## Main"
   ]
  },
  {
   "cell_type": "code",
   "execution_count": 126,
   "metadata": {},
   "outputs": [
    {
     "name": "stdout",
     "output_type": "stream",
     "text": [
      "betamethasone\n",
      "cortisone\n",
      "dexamethasone\n",
      "dexmedetomidine\n",
      "diazepam\n",
      "dobutamine\n",
      "dopamine\n",
      "epinephrine\n",
      "etomidate\n",
      "fentanyl\n",
      "fosphenytoin\n",
      "gabapentin\n",
      "hydralazine\n",
      "hydromorphone\n",
      "isoproterenol\n",
      "ketamine\n",
      "labetalol\n",
      "lacosamide\n",
      "levetiracetam\n",
      "lorazepam\n",
      "mannitol\n",
      "methylprednisolone\n",
      "midazolam\n",
      "milrinone\n",
      "morphine\n",
      "nesiritide\n",
      "nicardipine\n",
      "nitroglycerin\n",
      "nitroprusside\n",
      "norepinephrine\n",
      "oxycodone\n",
      "phenobarbital\n",
      "phenylephrine\n",
      "phenytoin\n",
      "prednisone\n",
      "pregabalin\n",
      "propofol\n",
      "remifentanil\n",
      "riociguat\n",
      "triamcinolone\n",
      "valproate\n",
      "vasopressin\n"
     ]
    }
   ],
   "source": [
    "# Generate dosage features\n",
    "merged = CHF_hosp_icu_stays.copy()\n",
    "for i in range(len(all_drug_doses)):\n",
    "    # Get just drug name.\n",
    "    drug_name = all_drug_doses[i].split('/')[-1]\n",
    "    drug_name = drug_name.split('.')[0]\n",
    "    temp = get_drug_dosage_featwRoute(drug_name, CHF_hosp_icu_stays)\n",
    "    if isinstance(temp, pd.DataFrame) == False:\n",
    "            continue\n",
    "    merged = pd.merge(left = merged, right = temp, on = ['osler_sid','pat_enc_csn_sid'], how = 'left')"
   ]
  },
  {
   "cell_type": "code",
   "execution_count": 134,
   "metadata": {},
   "outputs": [
    {
     "name": "stderr",
     "output_type": "stream",
     "text": [
      "<ipython-input-134-9b2bf1002f81>:1: FutureWarning: DataFrame.mean and DataFrame.median with numeric_only=None will include datetime64 and datetime64tz columns in a future version.\n",
      "  merged.mean()\n"
     ]
    },
    {
     "data": {
      "text/plain": [
       "pat_enc_csn_sid                                               1.000335e+09\n",
       "labels                                                        1.530749e-01\n",
       "average_dose_betamethasone_Intramuscular                      6.867531e+03\n",
       "average_dose_betamethasone_Topical                            0.000000e+00\n",
       "average_dose_cortisone_Oral                                   6.064967e+02\n",
       "                                                                  ...     \n",
       "average_dose_vasopressin_Continuous IV Infusion               7.810882e-04\n",
       "average_dose_vasopressin_Intravenous                          1.959268e-01\n",
       "average_dose_vasopressin_Intravenous (Continuous Infusion)    4.946103e+00\n",
       "average_dose_vasopressin_Subcutaneous                         1.383933e+00\n",
       "average_dose_vasopressin_central venous line infusion         1.148624e-02\n",
       "Length: 218, dtype: float64"
      ]
     },
     "execution_count": 134,
     "metadata": {},
     "output_type": "execute_result"
    }
   ],
   "source": [
    "merged.mean()"
   ]
  },
  {
   "cell_type": "code",
   "execution_count": 43,
   "metadata": {},
   "outputs": [
    {
     "name": "stdout",
     "output_type": "stream",
     "text": [
      "cortisone\n",
      "nan\n"
     ]
    },
    {
     "ename": "TypeError",
     "evalue": "can only concatenate str (not \"float\") to str",
     "output_type": "error",
     "traceback": [
      "\u001b[0;31m\u001b[0m",
      "\u001b[0;31mTypeError\u001b[0mTraceback (most recent call last)",
      "\u001b[0;32m<ipython-input-43-802cd8d4a0dd>\u001b[0m in \u001b[0;36m<module>\u001b[0;34m\u001b[0m\n\u001b[1;32m     54\u001b[0m         \u001b[0mprint\u001b[0m\u001b[0;34m(\u001b[0m\u001b[0mdrug_name\u001b[0m\u001b[0;34m)\u001b[0m\u001b[0;34m\u001b[0m\u001b[0;34m\u001b[0m\u001b[0m\n\u001b[1;32m     55\u001b[0m         \u001b[0mprint\u001b[0m\u001b[0;34m(\u001b[0m\u001b[0mrte\u001b[0m\u001b[0;34m)\u001b[0m\u001b[0;34m\u001b[0m\u001b[0;34m\u001b[0m\u001b[0m\n\u001b[0;32m---> 56\u001b[0;31m         \u001b[0mprint\u001b[0m\u001b[0;34m(\u001b[0m\u001b[0mdrug_name\u001b[0m \u001b[0;34m+\u001b[0m \u001b[0;34m' '\u001b[0m \u001b[0;34m+\u001b[0m \u001b[0mrte\u001b[0m \u001b[0;34m+\u001b[0m \u001b[0;34m' has no admins in this timeframe'\u001b[0m\u001b[0;34m)\u001b[0m\u001b[0;34m\u001b[0m\u001b[0;34m\u001b[0m\u001b[0m\n\u001b[0m",
      "\u001b[0;31mTypeError\u001b[0m: can only concatenate str (not \"float\") to str"
     ]
    }
   ],
   "source": [
    "drug_name = 'cortisone'\n",
    "inp = CHF_hosp_icu_stays.copy()\n",
    "result = CHF_hosp_icu_stays[['osler_sid','pat_enc_csn_sid']].copy()\n",
    "\n",
    "admins = CHF_hosp_med_admin.copy()\n",
    "\n",
    "drug = pd.read_csv('./medication_names_dose/' + drug_name + '.csv', squeeze = True)\n",
    "druglist = drug.str.lower().str.strip().to_list()\n",
    "\n",
    "# Get hosp length of stay (LOS) in minutes.\n",
    "inp['LOS'] = (inp['hosp_disch_time'] - inp['hosp_admsn_time']).dt.total_seconds()/60 # in minutes\n",
    "\n",
    "admins = CHF_hosp_med_admin[CHF_hosp_med_admin['medication_name'].str.contains('|'.join(druglist))]\n",
    "\n",
    "if admins.shape[0] == 0:\n",
    "    print(drug_name + ' has no admins')\n",
    "#     return 'no admins'\n",
    "\n",
    "admins = admins.dropna(subset=['sig','dose_unit']).copy()\n",
    "# Drop admins that have \"mL\" as dose unit. \n",
    "admins = admins[~(admins['dose_unit']=='mL')].copy()\n",
    "\n",
    "# Get minutes between admins.\n",
    "admins = admins.merge(inp[['osler_sid','pat_enc_csn_sid','LOS']], on=['osler_sid','pat_enc_csn_sid'], how='left')\n",
    "\n",
    "if(drug_name in(['ketamine'])):\n",
    "    admins['dose_unit'] = admins['dose_unit'].str.replace(' PCA', '')\n",
    "\n",
    "# Find correct dose units. \n",
    "med_unit = pd.read_csv('./medication_dose_convs/med_units.csv')\n",
    "\n",
    "# Set index\n",
    "med_unit.set_index('drugname', inplace=True)\n",
    "\n",
    "#Get dose units string.\n",
    "target_unit = med_unit.loc[drug_name,'unit']\n",
    "target_unit_str = ''.join(target_unit.split('/')[0:-1]) #mcg\n",
    "\n",
    "unit_convs = pd.read_csv('./medication_dose_convs/all_med_doses_units_'+ target_unit_str + '.csv')\n",
    "unit_convs.set_index('index', inplace=True)\n",
    "unit_convs = unit_convs.to_dict()\n",
    "\n",
    "for rte in admins['route'].unique():\n",
    "    # For each route, get the subset of admins\n",
    "    admins_rte = admins[admins['route'] == rte].copy()\n",
    "\n",
    "    # Perform shift operations to get all med administrations in chronological order\n",
    "    admins_rte['next_taken_time'] = admins_rte['taken_time'].shift(periods = -1)\n",
    "    admins_rte['next_osler_sid'] = admins_rte['osler_sid'].shift(periods = -1)\n",
    "    admins_rte['next_pat_enc_csn_sid'] = admins_rte['pat_enc_csn_sid'].shift(periods=-1)\n",
    "\n",
    "    # check if the route has any administrations in the timeframe\n",
    "    if admins_rte.shape[0] == 0:\n",
    "        print(drug_name)\n",
    "        print(rte)\n",
    "        print(drug_name + ' ' + rte + ' has no admins in this timeframe')"
   ]
  },
  {
   "cell_type": "code",
   "execution_count": 47,
   "metadata": {},
   "outputs": [
    {
     "data": {
      "text/plain": [
       "array(['hydrocortisone sod succinate (pf) 100 mg/2 ml solution for injection'],\n",
       "      dtype=object)"
      ]
     },
     "execution_count": 47,
     "metadata": {},
     "output_type": "execute_result"
    }
   ],
   "source": [
    "admins[admins.route.isnull()]['medication_name'].unique()"
   ]
  },
  {
   "cell_type": "code",
   "execution_count": 45,
   "metadata": {},
   "outputs": [
    {
     "data": {
      "text/plain": [
       "array(['Oral', 'Intravenous', 'Rectal', 'Topical', 'Left Ear',\n",
       "       'Right Ear', nan, 'J-Tube', 'Per NG Tube', 'Both Ears', 'G-Tube',\n",
       "       'PEG Tube'], dtype=object)"
      ]
     },
     "execution_count": 45,
     "metadata": {},
     "output_type": "execute_result"
    }
   ],
   "source": [
    "admins.route.unique()"
   ]
  },
  {
   "cell_type": "code",
   "execution_count": null,
   "metadata": {},
   "outputs": [],
   "source": [
    "intra"
   ]
  },
  {
   "cell_type": "code",
   "execution_count": 226,
   "metadata": {},
   "outputs": [
    {
     "name": "stderr",
     "output_type": "stream",
     "text": [
      "/home/idies/miniconda3/lib/python3.8/site-packages/pandas/core/strings.py:2001: UserWarning: This pattern has match groups. To actually get the groups, use str.extract.\n",
      "  return func(self, *args, **kwargs)\n"
     ]
    }
   ],
   "source": [
    "medication_rte_features = get_feat_wRoute(CHF_hosp_icu_stays, CHF_hosp_med_admin)"
   ]
  },
  {
   "cell_type": "code",
   "execution_count": 227,
   "metadata": {},
   "outputs": [],
   "source": [
    "medication_features = get_feat(CHF_hosp_icu_stays, CHF_hosp_med_admin)"
   ]
  },
  {
   "cell_type": "code",
   "execution_count": 230,
   "metadata": {},
   "outputs": [],
   "source": [
    "medication_rte_features.to_csv('medication_rte_features.csv', index = False)\n",
    "medication_features.to_csv('medication_features.csv', index = False)"
   ]
  },
  {
   "cell_type": "markdown",
   "metadata": {},
   "source": [
    "# Data Visualization"
   ]
  },
  {
   "cell_type": "markdown",
   "metadata": {},
   "source": [
    "## Medication Class Prevalence in CHF Hospital Stays"
   ]
  },
  {
   "cell_type": "code",
   "execution_count": 368,
   "metadata": {},
   "outputs": [
    {
     "ename": "NameError",
     "evalue": "name 'medication_features' is not defined",
     "output_type": "error",
     "traceback": [
      "\u001b[0;31m\u001b[0m",
      "\u001b[0;31mNameError\u001b[0mTraceback (most recent call last)",
      "\u001b[0;32m<ipython-input-368-4514580d180f>\u001b[0m in \u001b[0;36m<module>\u001b[0;34m\u001b[0m\n\u001b[1;32m      1\u001b[0m \u001b[0mdf\u001b[0m \u001b[0;34m=\u001b[0m \u001b[0mpd\u001b[0m\u001b[0;34m.\u001b[0m\u001b[0mDataFrame\u001b[0m\u001b[0;34m(\u001b[0m\u001b[0;34m)\u001b[0m\u001b[0;34m\u001b[0m\u001b[0;34m\u001b[0m\u001b[0m\n\u001b[0;32m----> 2\u001b[0;31m \u001b[0mdf\u001b[0m\u001b[0;34m[\u001b[0m\u001b[0;34m'meds'\u001b[0m\u001b[0;34m]\u001b[0m \u001b[0;34m=\u001b[0m \u001b[0mmedication_features\u001b[0m\u001b[0;34m.\u001b[0m\u001b[0mcolumns\u001b[0m\u001b[0;34m[\u001b[0m\u001b[0;36m7\u001b[0m\u001b[0;34m:\u001b[0m\u001b[0;34m]\u001b[0m\u001b[0;34m\u001b[0m\u001b[0;34m\u001b[0m\u001b[0m\n\u001b[0m\u001b[1;32m      3\u001b[0m \u001b[0mdf\u001b[0m\u001b[0;34m[\u001b[0m\u001b[0;34m'count'\u001b[0m\u001b[0;34m]\u001b[0m \u001b[0;34m=\u001b[0m \u001b[0mmedication_features\u001b[0m\u001b[0;34m.\u001b[0m\u001b[0miloc\u001b[0m\u001b[0;34m[\u001b[0m\u001b[0;34m:\u001b[0m\u001b[0;34m,\u001b[0m \u001b[0;36m7\u001b[0m\u001b[0;34m:\u001b[0m\u001b[0;34m]\u001b[0m\u001b[0;34m.\u001b[0m\u001b[0msum\u001b[0m\u001b[0;34m(\u001b[0m\u001b[0;34m)\u001b[0m\u001b[0;34m.\u001b[0m\u001b[0mvalues\u001b[0m\u001b[0;34m/\u001b[0m\u001b[0;36m4488\u001b[0m\u001b[0;34m*\u001b[0m\u001b[0;36m100\u001b[0m\u001b[0;34m\u001b[0m\u001b[0;34m\u001b[0m\u001b[0m\n\u001b[1;32m      4\u001b[0m \u001b[0mdf\u001b[0m \u001b[0;34m=\u001b[0m \u001b[0mdf\u001b[0m\u001b[0;34m.\u001b[0m\u001b[0msort_values\u001b[0m\u001b[0;34m(\u001b[0m\u001b[0;34m'count'\u001b[0m\u001b[0;34m)\u001b[0m\u001b[0;34m\u001b[0m\u001b[0;34m\u001b[0m\u001b[0m\n\u001b[1;32m      5\u001b[0m \u001b[0;34m\u001b[0m\u001b[0m\n",
      "\u001b[0;31mNameError\u001b[0m: name 'medication_features' is not defined"
     ]
    }
   ],
   "source": [
    "df = pd.DataFrame()\n",
    "df['meds'] = medication_features.columns[7:]\n",
    "df['count'] = medication_features.iloc[:, 7:].sum().values/4488*100\n",
    "df = df.sort_values('count')\n",
    "\n",
    "sns.set_theme()\n",
    "plt.figure(figsize = (18,18))\n",
    "plt.barh(df['meds'],df['count'])\n",
    "plt.title('Medication Class Prevalence in CHF Hospital Stays (N = {})'.format(len(CHF_hosp_icu_stays)), fontsize = 18)\n",
    "plt.xlim([0, 102])\n",
    "plt.xticks(fontsize = 14)\n",
    "plt.yticks(fontsize = 14)\n",
    "plt.xlabel('prevalence (%)',fontsize = 16)\n",
    "plt.show()"
   ]
  },
  {
   "cell_type": "markdown",
   "metadata": {},
   "source": [
    "## Medication Class Prevalence in CHF Hospital Stays (Zoomed in on prevalence > 80 %)"
   ]
  },
  {
   "cell_type": "code",
   "execution_count": 268,
   "metadata": {},
   "outputs": [
    {
     "data": {
      "image/png": "[encoded data removed]",
      "text/plain": [
       "<Figure size 504x216 with 1 Axes>"
      ]
     },
     "metadata": {},
     "output_type": "display_data"
    }
   ],
   "source": [
    "df = df[df['count'] > 80]\n",
    "\n",
    "plt.figure(figsize = (7,3))\n",
    "plt.barh(df['meds'],df['count'])\n",
    "plt.title('Medication Class Prevalence in CHF Hospital Stays (zoomed in on prev > 80 %) (N = 4,488)', fontsize = 14)\n",
    "plt.xlim([0, 102])\n",
    "plt.xticks(fontsize = 12)\n",
    "plt.yticks(fontsize = 12)\n",
    "plt.xlabel('prevalence (%)',fontsize = 12)\n",
    "plt.show()"
   ]
  },
  {
   "cell_type": "markdown",
   "metadata": {},
   "source": [
    "## Medication Class Prevalence in CHF Hospital Stays for both labels"
   ]
  },
  {
   "cell_type": "code",
   "execution_count": 280,
   "metadata": {},
   "outputs": [
    {
     "data": {
      "image/png": "[encoded data removed]",
      "text/plain": [
       "<Figure size 432x288 with 1 Axes>"
      ]
     },
     "metadata": {},
     "output_type": "display_data"
    },
    {
     "data": {
      "image/png": "[encoded data removed]",
      "text/plain": [
       "<Figure size 432x288 with 1 Axes>"
      ]
     },
     "metadata": {},
     "output_type": "display_data"
    }
   ],
   "source": [
    "temp0 = medication_features[medication_features.labels == 0]\n",
    "temp1 = medication_features[medication_features.labels == 1]\n",
    "df0 = pd.DataFrame()\n",
    "df1 = pd.DataFrame()\n",
    "df0['meds'] = temp0.columns[7:]\n",
    "df0['count'] = temp0.iloc[:, 7:].sum().values/temp0.shape[0]*100\n",
    "df1['meds'] = temp1.columns[7:]\n",
    "df1['count'] = temp1.iloc[:, 7:].sum().values/temp1.shape[0]*100\n",
    "df0 = df0.sort_values('count')\n",
    "df1 = df1.sort_values('count')\n",
    "\n",
    "#plt.figure(figsize = (18,18))\n",
    "plt.barh(df0.iloc[-5:, :]['meds'],df0.iloc[-5:, :]['count'])\n",
    "plt.title('Label 0: CHF Hospital Stays w/o Readmissions (N = 3,801)', fontsize = 14)\n",
    "plt.xlim([0, 102])\n",
    "plt.xticks(fontsize = 12)\n",
    "plt.yticks(fontsize = 12)\n",
    "plt.xlabel('prevalence (%)',fontsize = 12)\n",
    "plt.show()\n",
    "\n",
    "#plt.figure(figsize = (18,18))\n",
    "plt.barh(df1.iloc[-5:, :]['meds'],df1.iloc[-5:, :]['count'])\n",
    "plt.title('Label 1: CHF Hospital Stays w/ Readmissions (N = 687)', fontsize = 14)\n",
    "plt.xlim([0, 102])\n",
    "plt.xticks(fontsize = 12)\n",
    "plt.yticks(fontsize = 12)\n",
    "plt.xlabel('prevalence (%)',fontsize = 12)\n",
    "plt.show()\n"
   ]
  },
  {
   "cell_type": "code",
   "execution_count": 276,
   "metadata": {},
   "outputs": [
    {
     "data": {
      "text/html": [
       "<div>\n",
       "<style scoped>\n",
       "    .dataframe tbody tr th:only-of-type {\n",
       "        vertical-align: middle;\n",
       "    }\n",
       "\n",
       "    .dataframe tbody tr th {\n",
       "        vertical-align: top;\n",
       "    }\n",
       "\n",
       "    .dataframe thead th {\n",
       "        text-align: right;\n",
       "    }\n",
       "</style>\n",
       "<table border=\"1\" class=\"dataframe\">\n",
       "  <thead>\n",
       "    <tr style=\"text-align: right;\">\n",
       "      <th></th>\n",
       "      <th>meds</th>\n",
       "      <th>count</th>\n",
       "    </tr>\n",
       "  </thead>\n",
       "  <tbody>\n",
       "    <tr>\n",
       "      <th>0</th>\n",
       "      <td>Acetaminophen</td>\n",
       "      <td>84.570597</td>\n",
       "    </tr>\n",
       "    <tr>\n",
       "      <th>5</th>\n",
       "      <td>Anticoagulants</td>\n",
       "      <td>90.393013</td>\n",
       "    </tr>\n",
       "    <tr>\n",
       "      <th>35</th>\n",
       "      <td>Opioids</td>\n",
       "      <td>91.848617</td>\n",
       "    </tr>\n",
       "    <tr>\n",
       "      <th>27</th>\n",
       "      <td>Laxatives</td>\n",
       "      <td>94.468705</td>\n",
       "    </tr>\n",
       "    <tr>\n",
       "      <th>19</th>\n",
       "      <td>CrystalloidFluids</td>\n",
       "      <td>98.835517</td>\n",
       "    </tr>\n",
       "  </tbody>\n",
       "</table>\n",
       "</div>"
      ],
      "text/plain": [
       "                 meds      count\n",
       "0       Acetaminophen  84.570597\n",
       "5      Anticoagulants  90.393013\n",
       "35            Opioids  91.848617\n",
       "27          Laxatives  94.468705\n",
       "19  CrystalloidFluids  98.835517"
      ]
     },
     "execution_count": 276,
     "metadata": {},
     "output_type": "execute_result"
    }
   ],
   "source": [
    "df1.iloc[-5:, :]"
   ]
  },
  {
   "cell_type": "markdown",
   "metadata": {},
   "source": [
    "## Save off all medication dose units in our dataset"
   ]
  },
  {
   "cell_type": "code",
   "execution_count": 28,
   "metadata": {},
   "outputs": [],
   "source": [
    "# Drop admins missing dose info. \n",
    "med_admin = med_admin.dropna(subset=['dose_unit'])\n",
    "\n",
    "# Save off all dose units. \n",
    "admins = med_admin.dose_unit.value_counts().reset_index()\n",
    "admins['prop'] = admins['dose_unit'] / admins['dose_unit'].sum()\n",
    "\n",
    "admins.to_csv('all_med_doses_units_raw.csv', index=False)"
   ]
  },
  {
   "cell_type": "code",
   "execution_count": 29,
   "metadata": {},
   "outputs": [
    {
     "data": {
      "text/plain": [
       "<AxesSubplot:>"
      ]
     },
     "execution_count": 29,
     "metadata": {},
     "output_type": "execute_result"
    },
    {
     "data": {
      "image/png": "[encoded data removed]",
      "text/plain": [
       "<Figure size 360x360 with 2 Axes>"
      ]
     },
     "metadata": {
      "needs_background": "light"
     },
     "output_type": "display_data"
    }
   ],
   "source": [
    "msno.matrix(med_admin, figsize = (5,5))"
   ]
  }
 ],
 "metadata": {
  "kernelspec": {
   "display_name": "Python 3",
   "language": "python",
   "name": "python3"
  },
  "language_info": {
   "codemirror_mode": {
    "name": "ipython",
    "version": 3
   },
   "file_extension": ".py",
   "mimetype": "text/x-python",
   "name": "python",
   "nbconvert_exporter": "python",
   "pygments_lexer": "ipython3",
   "version": "3.8.5"
  }
 },
 "nbformat": 4,
 "nbformat_minor": 4
}
