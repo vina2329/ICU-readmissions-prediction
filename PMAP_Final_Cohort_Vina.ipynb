{
 "cells": [
  {
   "cell_type": "markdown",
   "metadata": {},
   "source": [
    "# PMAP Cohort\n",
    "Created: November 3, 2022\\\n",
    "*Last Modified: January 29th, 2023*\n",
    "\n",
    "1. Create dataframe with Congestive Heart Failure (CHF) related hospital stays w/ ICU and its readmission labels from the Precision Medicine Analytics Platform (PMAP) data.\n",
    "2. Data Visualization for data quality checks.\n",
    "\n",
    "Author: Vina Ro"
   ]
  },
  {
   "cell_type": "code",
   "execution_count": 1,
   "metadata": {},
   "outputs": [],
   "source": [
    "# Import packages\n",
    "import numpy as np\n",
    "import pandas as pd\n",
    "import time as time\n",
    "import os\n",
    "import matplotlib.pyplot as plt\n",
    "import seaborn as sns\n",
    "from pathlib import Path\n",
    "from datetime import datetime"
   ]
  },
  {
   "cell_type": "code",
   "execution_count": 2,
   "metadata": {},
   "outputs": [],
   "source": [
    "# Set filepath\n",
    "file_path = Path('PMAP_Init_DF_1103.ipynb').resolve()\n",
    "data_path = file_path.parent.parent.parent.parent.parent.joinpath('Data/jbergma8/IRB_271579_Faraday/IRB-271579-v3-DEID-220607-no-ptsd')"
   ]
  },
  {
   "cell_type": "code",
   "execution_count": 3,
   "metadata": {},
   "outputs": [
    {
     "name": "stderr",
     "output_type": "stream",
     "text": [
      "/home/idies/miniconda3/lib/python3.8/site-packages/IPython/core/interactiveshell.py:3145: DtypeWarning: Columns (12) have mixed types.Specify dtype option on import or set low_memory=False.\n",
      "  has_raised = await self.run_ast_nodes(code_ast.body, cell_name,\n"
     ]
    }
   ],
   "source": [
    "# Import data\n",
    "patient      = pd.read_csv(data_path / 'patient.csv')\n",
    "inpatient    = pd.read_csv(data_path / 'inpatient.csv', parse_dates = ['exp_admission_time','op_adm_date','hosp_admsn_time','hosp_disch_time'])\n",
    "icustay      = pd.read_csv(data_path / 'icustay.csv', parse_dates = ['in_time','out_time'])\n",
    "enc_icustay  = pd.read_csv(data_path / 'enc_icustay.csv', parse_dates = ['in_time'])\n",
    "adt          = pd.read_csv(data_path / 'adt.csv',parse_dates = ['in_time','out_time'])\n",
    "#adr          = pd.read_csv(data_path / 'an_record_summary.csv')\n",
    "hosp_billing = pd.read_csv(data_path / 'hosp_billing_dx.csv', usecols = ['osler_sid', 'pat_enc_csn_sid','adm_date_time','icd10_code'])\n",
    "encounter    = pd.read_csv(data_path / 'encounter_dx.csv')\n",
    "elixhauser   = pd.read_csv(data_path / 'elixhauser_aqi_pivot.csv', usecols = ['osler_sid','pat_enc_csn_sid','CHF'])\n",
    "adm          = pd.read_csv(data_path / 'adm-220829.csv', parse_dates = ['adm_dt','dc_dt'])\n",
    "\n",
    "# Import dictionaries (no patient data)\n",
    "d_dept_type_v2  = pd.read_csv(data_path / 'dept-type-220506NF.csv')"
   ]
  },
  {
   "cell_type": "markdown",
   "metadata": {},
   "source": [
    "### Get real hospital stays by verifying billing info and patient whereabouts"
   ]
  },
  {
   "cell_type": "code",
   "execution_count": 4,
   "metadata": {},
   "outputs": [
    {
     "name": "stderr",
     "output_type": "stream",
     "text": [
      "/home/idies/miniconda3/lib/python3.8/site-packages/pandas/core/reshape/merge.py:1112: RuntimeWarning: invalid value encountered in cast\n",
      "  if not (lk == lk.astype(rk.dtype))[~np.isnan(lk)].all():\n"
     ]
    }
   ],
   "source": [
    "# Merge adt with department id and department name\n",
    "temp = pd.merge(\n",
    "    adt[['osler_sid', 'pat_enc_csn_sid', 'department_id', 'seq_stay', 'in_time', 'out_time']],\n",
    "    d_dept_type_v2[['department_id', 'department_name', 'loc', 'ward', 'is_floor', 'is_icu', 'is_or', 'is_ed']], # change based on location desired\n",
    "    on = 'department_id',\n",
    "    how = 'left',\n",
    "    indicator = True)\n",
    "temp['is_unknown'] = np.where(temp._merge == 'left_only', 1, 0)\n",
    "temp['is_clinic']  = np.where(temp['loc'] == 'clinic', 1, 0)\n",
    "temp['is_rads']    = np.where(temp['loc'].isin(['rads', 'rads-op']), 1, 0)\n",
    "temp['is_study']   = np.where(temp['loc'] == 'study', 1, 0)\n",
    "\n",
    "# Sum how many times the patient visited each location during encounter\n",
    "adm_adt = (\n",
    "    temp.groupby(['osler_sid', 'pat_enc_csn_sid'])\n",
    "      [['ward', 'is_floor', 'is_icu', 'is_or', 'is_ed', 'is_clinic', 'is_rads', 'is_study', 'is_unknown']]\n",
    "      .sum())\n",
    "\n",
    "# Mark 1 if visited floor, icu, and/or ward\n",
    "adm_adt['adm'] = np.where((adm_adt.is_floor >= 1) | (adm_adt.is_icu >= 1) | (adm_adt.ward >= 1), 1, 0)\n",
    "adm_adt = adm_adt.dropna()\n",
    "\n",
    "real_inpatient = (inpatient\n",
    "                  .merge(adm_adt.query('adm == 1').reset_index(),\n",
    "                         on = ['osler_sid','pat_enc_csn_sid'],\n",
    "                         how = 'inner'))\n",
    "                  \n",
    "real_inpatient = (real_inpatient\n",
    "                  .merge(hosp_billing[['osler_sid', 'pat_enc_csn_sid', 'adm_date_time']].drop_duplicates('pat_enc_csn_sid', keep='first'),\n",
    "                         on=['osler_sid', 'pat_enc_csn_sid'],\n",
    "                         how='inner'))\n",
    "\n",
    "real_inpatient.to_csv('real_inpatient.csv',index = False)"
   ]
  },
  {
   "cell_type": "code",
   "execution_count": 5,
   "metadata": {},
   "outputs": [],
   "source": [
    "real_adm = (adm\n",
    "            .merge(adm_adt.query('adm == 1').reset_index(),\n",
    "                         on = ['osler_sid','pat_enc_csn_sid'],\n",
    "                         how = 'inner'))\n",
    "                  \n",
    "real_adm = (real_adm\n",
    "                  .merge(hosp_billing[['osler_sid', 'pat_enc_csn_sid', 'adm_date_time']].drop_duplicates('pat_enc_csn_sid', keep='first'),\n",
    "                         on=['osler_sid', 'pat_enc_csn_sid'],\n",
    "                         how='inner'))\n",
    "real_adm.to_csv('real_adm.csv',index = False)"
   ]
  },
  {
   "cell_type": "markdown",
   "metadata": {},
   "source": [
    "### Create DataFrame of hospital stays w/ ICU stays.\n",
    "Dataframe contains osler_sid, pat_enc_csn_sid, hospital admission time, hospital discharge time, ICU admission time, ICU discharge time."
   ]
  },
  {
   "cell_type": "code",
   "execution_count": 6,
   "metadata": {},
   "outputs": [
    {
     "name": "stdout",
     "output_type": "stream",
     "text": [
      "Number of patients that have an index hospital stay w/ an ICU stay: 26825\n",
      "Number of index hospital stays w/ ICU stays: 30375\n"
     ]
    }
   ],
   "source": [
    "# Inner merge with enc_icustay to get real enc_csn_sid and initialize dataframe\n",
    "hosp_icu_stays  = (enc_icustay[['osler_sid','pat_enc_csn_sid','in_time']]\n",
    "     .merge(\n",
    "         real_inpatient[['pat_enc_csn_sid', 'hosp_admsn_time', 'hosp_disch_time']],\n",
    "         on = 'pat_enc_csn_sid',\n",
    "         how = 'inner')\n",
    "      .merge(\n",
    "         icustay[['pat_enc_csn_sid', 'in_time', 'out_time']],\n",
    "         on = ['pat_enc_csn_sid', 'in_time'],\n",
    "         how = 'inner'))\n",
    "\n",
    "# Swap column order for better interpretation in the future\n",
    "hosp_icu_stays = hosp_icu_stays[['osler_sid', 'pat_enc_csn_sid', 'hosp_admsn_time',\n",
    "                                       'hosp_disch_time', 'in_time', 'out_time']]\n",
    "\n",
    "# Keep last icu stay for icu stays with the same pat_enc_csn_sid\n",
    "hosp_icu_stays = hosp_icu_stays.sort_values(['in_time']).drop_duplicates('pat_enc_csn_sid', keep='last')\n",
    "hosp_icu_stays = hosp_icu_stays.sort_values('osler_sid').reset_index(drop = True)\n",
    "hosp_icu_stays.to_csv('unq_idx_icu_stays.csv', index = False)\n",
    "\n",
    "print('Number of patients that have an index hospital stay w/ an ICU stay: ' + str(hosp_icu_stays.osler_sid.nunique()))\n",
    "print('Number of index hospital stays w/ ICU stays: ' + str(hosp_icu_stays.pat_enc_csn_sid.nunique()))"
   ]
  },
  {
   "cell_type": "markdown",
   "metadata": {},
   "source": [
    "### Checking if times in ICU is between the time period of hospital admission and discharge"
   ]
  },
  {
   "cell_type": "code",
   "execution_count": 7,
   "metadata": {},
   "outputs": [
    {
     "name": "stdout",
     "output_type": "stream",
     "text": [
      "Number of wrong datetime entries(adm/disch/inicu/outicu) in CHF_hosp_icu_stays: 0\n"
     ]
    }
   ],
   "source": [
    "temp = hosp_icu_stays[~((hosp_icu_stays.hosp_admsn_time <= hosp_icu_stays.in_time) & \n",
    "                           (hosp_icu_stays.in_time <= hosp_icu_stays.out_time) & \n",
    "                           (hosp_icu_stays.out_time <= hosp_icu_stays.hosp_disch_time))].shape[0]\n",
    "print('Number of wrong datetime entries(adm/disch/inicu/outicu) in CHF_hosp_icu_stays: ' + str(temp))"
   ]
  },
  {
   "cell_type": "markdown",
   "metadata": {},
   "source": [
    "### Create a new dataframe with CHF related hospital ICU stays"
   ]
  },
  {
   "cell_type": "code",
   "execution_count": 10,
   "metadata": {},
   "outputs": [
    {
     "name": "stdout",
     "output_type": "stream",
     "text": [
      "Number of CHF-related hospital stays w/ an ICU stay: 4488\n",
      "Number of patients who have a CHF-related hospital stay w/ an ICU stay: 4109\n",
      "Number of non-CHF-related hospital stays w/ an ICU stay: 25887\n",
      "Number of patients who have a non-CHF-related hospital stay w/ an ICU stay: 22984\n"
     ]
    }
   ],
   "source": [
    "hosp_billing = hosp_billing.assign(\n",
    "    CHF = hosp_billing.icd10_code.str.contains(r'I09.9|I11.0|I13.0|I13.2|I25.5|I42.0|I43|I50|P29.0|I42.[5-9]').astype(int)\n",
    ")\n",
    "\n",
    "CHF_hosp_billing = hosp_billing[hosp_billing.CHF == 1][['osler_sid','pat_enc_csn_sid','icd10_code']]\n",
    "\n",
    "# Because CHF_hosp_billing originally contained duplicates of inpatient stays with multiple CHF billing codes,\n",
    "# drop duplicates to get unique enc_csns for inpatient stays with CHF ICU stays. \n",
    "hosp_sid = CHF_hosp_billing.drop_duplicates(['osler_sid','pat_enc_csn_sid'])['pat_enc_csn_sid']\n",
    "elix_sid = elixhauser[elixhauser.CHF == 1]['pat_enc_csn_sid']\n",
    "\n",
    "CHF_enc_csn_sid = set(hosp_sid).intersection(elix_sid)\n",
    "CHF_hosp_icu_stays = hosp_icu_stays[hosp_icu_stays.pat_enc_csn_sid.isin(CHF_enc_csn_sid)]\n",
    "\n",
    "# ----- For printing ----- #\n",
    "hosp_icu_stays = hosp_icu_stays.assign(CHF = hosp_icu_stays.pat_enc_csn_sid.isin(\n",
    "    CHF_hosp_icu_stays.pat_enc_csn_sid).astype(int))\n",
    "\n",
    "CHF = hosp_icu_stays[hosp_icu_stays.CHF == 1]\n",
    "nonCHF = hosp_icu_stays[hosp_icu_stays.CHF == 0]\n",
    "\n",
    "print('Number of CHF-related hospital stays w/ an ICU stay: ' + str(CHF.shape[0]))\n",
    "print('Number of patients who have a CHF-related hospital stay w/ an ICU stay: ' + str(CHF.osler_sid.nunique()))\n",
    "print('Number of non-CHF-related hospital stays w/ an ICU stay: ' + str(nonCHF.shape[0]))\n",
    "print('Number of patients who have a non-CHF-related hospital stay w/ an ICU stay: ' + str(nonCHF.osler_sid.nunique()))"
   ]
  },
  {
   "cell_type": "markdown",
   "metadata": {},
   "source": [
    "## Creating labels"
   ]
  },
  {
   "cell_type": "markdown",
   "metadata": {},
   "source": [
    "### Subsetting patients who have a CHF related index icu stay from the adm dataframe"
   ]
  },
  {
   "cell_type": "code",
   "execution_count": 11,
   "metadata": {},
   "outputs": [],
   "source": [
    "# Filtering adm.csv with patient ids in CHF_hosp_icu_stays\n",
    "CHF_adm = real_adm[real_adm.osler_sid.isin(CHF_hosp_icu_stays.osler_sid.unique())]\n",
    "\n",
    "# Marking pat_enc_csn_sids that are the index icu stay from CHF_hosp_icu_stays\n",
    "CHF_adm = CHF_adm.assign(is_idx_icu = CHF_adm.pat_enc_csn_sid.isin(CHF_hosp_icu_stays.pat_enc_csn_sid).astype(int)) # mark pat_enc_csn_sids that are index icu stays\n",
    "CHF_adm = CHF_adm[['osler_sid','pat_enc_csn_sid','is_idx_icu','adm_dt','dc_dt','type']].sort_values(['osler_sid','adm_dt']).reset_index(drop = True)"
   ]
  },
  {
   "cell_type": "markdown",
   "metadata": {},
   "source": [
    "### Generating chronological dataframe by performing shift operations\n",
    "1. had_readmission_for_icustays: patient has readmission AND the first hospital stay is an ICU stay.\n",
    "2. time_bt: time btw 2 consecutive admissions in days.\n",
    "3. had_readmission_for_icustays_1to30: patient has readmission w the first hospital stay being an ICU stay AND time btw 2 consecutive stays is >=1 and <= 30 days.\n",
    "4. had_readmission_for_icustays_less24: patient has readmission w the first hospital stay being an ICU stay AND time btw 2 consecutive stays is < 1 day."
   ]
  },
  {
   "cell_type": "code",
   "execution_count": 12,
   "metadata": {},
   "outputs": [],
   "source": [
    "# Remove all hospital stays in rehab first\n",
    "CHF_adm = CHF_adm[CHF_adm.type != 'adm-rehab']\n",
    "\n",
    "CHF_adm.loc[:,'next_osler_sid'] = CHF_adm['osler_sid'].shift(periods = -1)\n",
    "CHF_adm.loc[:,'next_adm_dt'] = CHF_adm['adm_dt'].shift(periods = -1)\n",
    "CHF_adm.loc[:,'had_readmission_after_icustay'] = ((CHF_adm['osler_sid'] == CHF_adm['next_osler_sid']) & (CHF_adm['is_idx_icu'] == 1))\n",
    "CHF_adm.loc[:,'readmission_location'] = CHF_adm['type'].shift(periods = -1)\n",
    "\n",
    "CHF_adm.loc[:,'time_bt'] = (CHF_adm['next_adm_dt'] - CHF_adm['dc_dt']).dt.total_seconds()/86400 \n",
    "\n",
    "CHF_adm.loc[:,'had_readmission_after_icustay_1to30'] = ((CHF_adm['had_readmission_after_icustay']) & (CHF_adm['time_bt'] <= 30) & (CHF_adm['time_bt'] >= 1))\n",
    "CHF_adm.loc[:,'had_readmission_after_icustay_less24'] = ((CHF_adm['had_readmission_after_icustay']) & (CHF_adm['time_bt'] < 1))"
   ]
  },
  {
   "cell_type": "markdown",
   "metadata": {},
   "source": [
    "### Checking instances where time_bt < 0, i.e. wrong entries.\n",
    "There are only 3 instances where the readmission times are negative in the CHF_adm dataframe. \n",
    "After investigating, it doesn't affect the analysis in our case since all the stays that generate a negative readmission time are not directly after an index hospital stay w/ an ICU stay."
   ]
  },
  {
   "cell_type": "code",
   "execution_count": 13,
   "metadata": {},
   "outputs": [
    {
     "data": {
      "text/html": [
       "<div>\n",
       "<style scoped>\n",
       "    .dataframe tbody tr th:only-of-type {\n",
       "        vertical-align: middle;\n",
       "    }\n",
       "\n",
       "    .dataframe tbody tr th {\n",
       "        vertical-align: top;\n",
       "    }\n",
       "\n",
       "    .dataframe thead th {\n",
       "        text-align: right;\n",
       "    }\n",
       "</style>\n",
       "<table border=\"1\" class=\"dataframe\">\n",
       "  <thead>\n",
       "    <tr style=\"text-align: right;\">\n",
       "      <th></th>\n",
       "      <th>osler_sid</th>\n",
       "      <th>pat_enc_csn_sid</th>\n",
       "      <th>is_idx_icu</th>\n",
       "      <th>adm_dt</th>\n",
       "      <th>dc_dt</th>\n",
       "      <th>type</th>\n",
       "      <th>next_osler_sid</th>\n",
       "      <th>next_adm_dt</th>\n",
       "      <th>had_readmission_after_icustay</th>\n",
       "      <th>readmission_location</th>\n",
       "      <th>time_bt</th>\n",
       "      <th>had_readmission_after_icustay_1to30</th>\n",
       "      <th>had_readmission_after_icustay_less24</th>\n",
       "    </tr>\n",
       "  </thead>\n",
       "  <tbody>\n",
       "    <tr>\n",
       "      <th>132</th>\n",
       "      <td>011A86F0-72F0-4601-960B-02646E8F3BD6</td>\n",
       "      <td>1000524904</td>\n",
       "      <td>0</td>\n",
       "      <td>2016-07-21 08:42:00</td>\n",
       "      <td>2016-08-24 20:34:00</td>\n",
       "      <td>adm</td>\n",
       "      <td>011A86F0-72F0-4601-960B-02646E8F3BD6</td>\n",
       "      <td>2016-08-24 17:06:00</td>\n",
       "      <td>False</td>\n",
       "      <td>adm</td>\n",
       "      <td>-0.144444</td>\n",
       "      <td>False</td>\n",
       "      <td>False</td>\n",
       "    </tr>\n",
       "    <tr>\n",
       "      <th>135</th>\n",
       "      <td>011A86F0-72F0-4601-960B-02646E8F3BD6</td>\n",
       "      <td>1000414810</td>\n",
       "      <td>0</td>\n",
       "      <td>2016-09-04 07:38:00</td>\n",
       "      <td>2016-09-10 23:50:00</td>\n",
       "      <td>adm</td>\n",
       "      <td>011A86F0-72F0-4601-960B-02646E8F3BD6</td>\n",
       "      <td>2016-09-09 17:22:00</td>\n",
       "      <td>False</td>\n",
       "      <td>adm</td>\n",
       "      <td>-1.269444</td>\n",
       "      <td>False</td>\n",
       "      <td>False</td>\n",
       "    </tr>\n",
       "    <tr>\n",
       "      <th>8736</th>\n",
       "      <td>8F212B57-8E9D-4381-993C-05B8BE2E6EE0</td>\n",
       "      <td>1000249707</td>\n",
       "      <td>0</td>\n",
       "      <td>2018-08-05 19:00:00</td>\n",
       "      <td>2018-08-31 23:54:00</td>\n",
       "      <td>adm</td>\n",
       "      <td>8F212B57-8E9D-4381-993C-05B8BE2E6EE0</td>\n",
       "      <td>2018-08-31 23:45:00</td>\n",
       "      <td>False</td>\n",
       "      <td>adm</td>\n",
       "      <td>-0.006250</td>\n",
       "      <td>False</td>\n",
       "      <td>False</td>\n",
       "    </tr>\n",
       "  </tbody>\n",
       "</table>\n",
       "</div>"
      ],
      "text/plain": [
       "                                 osler_sid  pat_enc_csn_sid  is_idx_icu  \\\n",
       "132   011A86F0-72F0-4601-960B-02646E8F3BD6       1000524904           0   \n",
       "135   011A86F0-72F0-4601-960B-02646E8F3BD6       1000414810           0   \n",
       "8736  8F212B57-8E9D-4381-993C-05B8BE2E6EE0       1000249707           0   \n",
       "\n",
       "                  adm_dt               dc_dt type  \\\n",
       "132  2016-07-21 08:42:00 2016-08-24 20:34:00  adm   \n",
       "135  2016-09-04 07:38:00 2016-09-10 23:50:00  adm   \n",
       "8736 2018-08-05 19:00:00 2018-08-31 23:54:00  adm   \n",
       "\n",
       "                            next_osler_sid         next_adm_dt  \\\n",
       "132   011A86F0-72F0-4601-960B-02646E8F3BD6 2016-08-24 17:06:00   \n",
       "135   011A86F0-72F0-4601-960B-02646E8F3BD6 2016-09-09 17:22:00   \n",
       "8736  8F212B57-8E9D-4381-993C-05B8BE2E6EE0 2018-08-31 23:45:00   \n",
       "\n",
       "      had_readmission_after_icustay readmission_location   time_bt  \\\n",
       "132                           False                  adm -0.144444   \n",
       "135                           False                  adm -1.269444   \n",
       "8736                          False                  adm -0.006250   \n",
       "\n",
       "      had_readmission_after_icustay_1to30  \\\n",
       "132                                 False   \n",
       "135                                 False   \n",
       "8736                                False   \n",
       "\n",
       "      had_readmission_after_icustay_less24  \n",
       "132                                  False  \n",
       "135                                  False  \n",
       "8736                                 False  "
      ]
     },
     "execution_count": 13,
     "metadata": {},
     "output_type": "execute_result"
    }
   ],
   "source": [
    "CHF_adm[(CHF_adm.osler_sid == CHF_adm.next_osler_sid) & (CHF_adm.time_bt < 0)]"
   ]
  },
  {
   "cell_type": "markdown",
   "metadata": {},
   "source": [
    "### Label 0\n",
    "1. Readmissions less than 24 hours (including part-rehab)\n",
    "    - Had readmission w index hospital stay w/ ICU and time between is less than 24 hrs.\n",
    "2. No readmissions at all OR Readmissions > 30 days\n",
    "    - No readmission after index hospital stay w/ ICU OR readmission after index hospital stay w/ ICU > 30 days.\n",
    "3. Faux readmissions\n",
    "    - Had readmission in adm-faux after index hospital stay w/ ICU."
   ]
  },
  {
   "cell_type": "code",
   "execution_count": 14,
   "metadata": {},
   "outputs": [
    {
     "name": "stdout",
     "output_type": "stream",
     "text": [
      "Readmissions less than 24 hours(unique stays): 56\n",
      "Readmissions less than 24 hours(unique patients): 54\n",
      "-----------------------------------------------------------------\n",
      "No readmissions OR over 30 day readmission(unique stays): 3745\n",
      "No readmissions OR over 30 day readmission(unique patients): 3563\n",
      "-----------------------------------------------------------------\n",
      "Faux readmissions(unique stays): 0\n",
      "Faux readmissions(unique patients): 0\n",
      "-----------------------------------------------------------------\n",
      "Total number of label 0s: 3801\n",
      "Total number of unique patients in label 0: 3606\n"
     ]
    }
   ],
   "source": [
    "CHF_adm.labels = np.nan\n",
    "\n",
    "# Case 1: Readmissions less than 24 hours\n",
    "label_0_less24 = CHF_adm.had_readmission_after_icustay_less24 == True\n",
    "CHF_adm.loc[label_0_less24, 'labels'] = 0\n",
    "print('Readmissions less than 24 hours(unique stays): ' + str(label_0_less24.sum()))\n",
    "print('Readmissions less than 24 hours(unique patients): ' + \n",
    "      str(CHF_adm.loc[label_0_less24, 'osler_sid'].nunique()))\n",
    "print('-----------------------------------------------------------------')\n",
    "\n",
    "# Case 2: No readmissions at all OR Readmissions > 30 days\n",
    "label_0_no_readmit = (((CHF_adm.is_idx_icu == 1) & (CHF_adm.had_readmission_after_icustay == False)) \n",
    "                      | ((CHF_adm.had_readmission_after_icustay == True) & (CHF_adm.time_bt > 30)))\n",
    "CHF_adm.loc[label_0_no_readmit, 'labels'] = 0\n",
    "print('No readmissions OR over 30 day readmission(unique stays): ' + str(label_0_no_readmit.sum()))\n",
    "print('No readmissions OR over 30 day readmission(unique patients): ' \n",
    "      + str(CHF_adm.loc[label_0_no_readmit, 'osler_sid'].nunique()))\n",
    "print('-----------------------------------------------------------------')\n",
    "\n",
    "# Case 3: Faux readmissions\n",
    "label_0_adm_faux = ((CHF_adm.had_readmission_after_icustay == True) & (CHF_adm.readmission_location == \"adm-faux\"))\n",
    "CHF_adm.loc[label_0_adm_faux, 'labels'] = 0\n",
    "print('Faux readmissions(unique stays): ' + str(label_0_adm_faux.sum()))\n",
    "print('Faux readmissions(unique patients): ' + str(CHF_adm.loc[label_0_adm_faux, 'osler_sid'].nunique()))\n",
    "print('-----------------------------------------------------------------')\n",
    "\n",
    "\n",
    "total0 = label_0_less24.sum() + label_0_no_readmit.sum() + label_0_adm_faux.sum()\n",
    "\n",
    "print('Total number of label 0s: ' + str(total0))\n",
    "print('Total number of unique patients in label 0: ' \n",
    "      + str(CHF_adm[label_0_less24|label_0_no_readmit|label_0_adm_faux].osler_sid.nunique()))"
   ]
  },
  {
   "cell_type": "markdown",
   "metadata": {},
   "source": [
    "### Label 1\n",
    "1. Had readmission from >= 24hr and < 30 days\n",
    "    - had readmission w first ICU hospital stay and time between is 1-30 days.\n",
    "2. Readmission w/in 1-30 days (part-rehab)\n",
    "    - had readmission after first ICU hospital stay in part-rehab that are w/in 1-30 days."
   ]
  },
  {
   "cell_type": "code",
   "execution_count": 15,
   "metadata": {},
   "outputs": [
    {
     "name": "stdout",
     "output_type": "stream",
     "text": [
      "Readmission w/in 1-30 days(unique stays): 687\n",
      "Readmission w/in 1-30 days(unique patients): 659\n",
      "---------------------------------------------------------\n",
      "Readmission w/in 1-30 days part-rehab(unique stays): 0\n",
      "Readmission w/in 1-30 days part-rehab(unique patients): 0\n",
      "---------------------------------------------------------\n",
      "Total number of label 1s: 687\n",
      "Total number of unique patients in label 1: 659\n"
     ]
    }
   ],
   "source": [
    "# Case 1: Had readmission from >= 24hr and < 30 days\n",
    "label_1_1to30 = CHF_adm.had_readmission_after_icustay_1to30 == True\n",
    "CHF_adm.loc[label_1_1to30, 'labels'] = 1\n",
    "print('Readmission w/in 1-30 days(unique stays): ' + str(label_1_1to30.sum()))\n",
    "print('Readmission w/in 1-30 days(unique patients): ' + str(CHF_adm.loc[label_1_1to30, 'osler_sid'].nunique()))\n",
    "print('---------------------------------------------------------')\n",
    "\n",
    "# Case 2: Readmission w/in 1-30 days (part-rehab)\n",
    "label_1_1to30_part_rehab = ((CHF_adm.had_readmission_after_icustay_1to30 == True)\n",
    "                            & (CHF_adm.readmission_location == \"adm-part-rehab\"))\n",
    "CHF_adm.loc[label_1_1to30_part_rehab, 'labels'] = 1\n",
    "print('Readmission w/in 1-30 days part-rehab(unique stays): ' + str(label_1_1to30_part_rehab.sum()))\n",
    "print('Readmission w/in 1-30 days part-rehab(unique patients): '\n",
    "      + str(CHF_adm.loc[label_1_1to30_part_rehab, 'osler_sid'].nunique()))\n",
    "print('---------------------------------------------------------')\n",
    "\n",
    "total1 = label_1_1to30.sum() + label_1_1to30_part_rehab.sum()\n",
    "print('Total number of label 1s: ' + str(total1))\n",
    "print('Total number of unique patients in label 1: '\n",
    "      + str(CHF_adm[label_1_1to30|label_1_1to30_part_rehab].osler_sid.nunique()))"
   ]
  },
  {
   "cell_type": "code",
   "execution_count": 129,
   "metadata": {},
   "outputs": [],
   "source": [
    "# Save CHF related index ICU stays dataframe with labels\n",
    "CHF_hosp_icu_stays = CHF_hosp_icu_stays.sort_values(['osler_sid','hosp_admsn_time'])\n",
    "\n",
    "temp = CHF_hosp_icu_stays[['osler_sid','pat_enc_csn_sid']].merge(\n",
    "    CHF_adm[['osler_sid','pat_enc_csn_sid','labels']],\n",
    "    on = ['osler_sid','pat_enc_csn_sid'],\n",
    "    how = 'left'\n",
    ")\n",
    "\n",
    "CHF_hosp_icu_stays = temp.merge(\n",
    "    hosp_icu_stays.loc[:, 'osler_sid':'out_time'],\n",
    "    on = ['osler_sid','pat_enc_csn_sid'],\n",
    "    how = 'left'\n",
    ")\n",
    "\n",
    "CHF_hosp_icu_stays[['osler_sid','pat_enc_csn_sid','hosp_admsn_time','hosp_disch_time','labels']].to_csv('CHF_hosp_icu_stays.csv', index = False)"
   ]
  },
  {
   "cell_type": "markdown",
   "metadata": {},
   "source": [
    "# Data Visualization"
   ]
  },
  {
   "cell_type": "markdown",
   "metadata": {},
   "source": [
    "### 1. Number of CHF Hospital Stays w/ ICU Stays Per Patient"
   ]
  },
  {
   "cell_type": "code",
   "execution_count": 123,
   "metadata": {},
   "outputs": [
    {
     "data": {
      "text/html": [
       "<div>\n",
       "<style scoped>\n",
       "    .dataframe tbody tr th:only-of-type {\n",
       "        vertical-align: middle;\n",
       "    }\n",
       "\n",
       "    .dataframe tbody tr th {\n",
       "        vertical-align: top;\n",
       "    }\n",
       "\n",
       "    .dataframe thead th {\n",
       "        text-align: right;\n",
       "    }\n",
       "</style>\n",
       "<table border=\"1\" class=\"dataframe\">\n",
       "  <thead>\n",
       "    <tr style=\"text-align: right;\">\n",
       "      <th></th>\n",
       "      <th>pat_enc_csn_sid</th>\n",
       "      <th>no of stays</th>\n",
       "      <th>prop</th>\n",
       "    </tr>\n",
       "  </thead>\n",
       "  <tbody>\n",
       "    <tr>\n",
       "      <th>1</th>\n",
       "      <td>635</td>\n",
       "      <td>1</td>\n",
       "      <td>0.924309</td>\n",
       "    </tr>\n",
       "    <tr>\n",
       "      <th>2</th>\n",
       "      <td>20</td>\n",
       "      <td>2</td>\n",
       "      <td>0.029112</td>\n",
       "    </tr>\n",
       "    <tr>\n",
       "      <th>3</th>\n",
       "      <td>4</td>\n",
       "      <td>3</td>\n",
       "      <td>0.005822</td>\n",
       "    </tr>\n",
       "    <tr>\n",
       "      <th>4</th>\n",
       "      <td>0</td>\n",
       "      <td>4</td>\n",
       "      <td>0.000000</td>\n",
       "    </tr>\n",
       "  </tbody>\n",
       "</table>\n",
       "</div>"
      ],
      "text/plain": [
       "   pat_enc_csn_sid  no of stays      prop\n",
       "1              635            1  0.924309\n",
       "2               20            2  0.029112\n",
       "3                4            3  0.005822\n",
       "4                0            4  0.000000"
      ]
     },
     "execution_count": 123,
     "metadata": {},
     "output_type": "execute_result"
    }
   ],
   "source": [
    "lab0 = CHF_hosp_icu_stays[CHF_hosp_icu_stays.labels == 0]\n",
    "lab1 = CHF_hosp_icu_stays[CHF_hosp_icu_stays.labels == 1]\n",
    "temp0 = lab0.groupby('osler_sid', as_index = False)['pat_enc_csn_sid'].count().pat_enc_csn_sid.value_counts()\n",
    "temp1 = lab1.groupby('osler_sid', as_index = False)['pat_enc_csn_sid'].count().pat_enc_csn_sid.value_counts()\n",
    "df0 = pd.DataFrame(temp0)\n",
    "df0['no of stays'] = [1, 2, 3, 4]\n",
    "df0['prop'] = df0['pat_enc_csn_sid'] / len(lab0)\n",
    "df1 = pd.DataFrame(temp1)\n",
    "df1['no of stays'] = [1, 2, 3]\n",
    "df1.loc[4, :] = [0, 4]\n",
    "df1 = df1.astype(int)\n",
    "df1['prop'] = df1['pat_enc_csn_sid'] / len(lab1)\n",
    "df1"
   ]
  },
  {
   "cell_type": "code",
   "execution_count": 128,
   "metadata": {},
   "outputs": [
    {
     "data": {
      "image/png": "[encoded data removed]",
      "text/plain": [
       "<Figure size 1152x504 with 4 Axes>"
      ]
     },
     "metadata": {},
     "output_type": "display_data"
    }
   ],
   "source": [
    "sns.set_style('whitegrid')\n",
    "plt.figure(figsize = (16, 7))\n",
    "\n",
    "plt.subplot(2,2,1)\n",
    "sns.barplot(x = 'no of stays', y = 'pat_enc_csn_sid', data = df0)\n",
    "plt.title('Label 0: Patients w/o Readmissions after CHF Hospital Stay (N = {})'.format(len(lab0)))\n",
    "plt.ylim([0, 3500])\n",
    "plt.xlabel('')\n",
    "plt.ylabel('count')\n",
    "\n",
    "plt.subplot(2,2,2)\n",
    "sns.barplot(x = 'no of stays', y = 'pat_enc_csn_sid', data = df1)\n",
    "plt.title('Label 1: Patients w/o Readmissions after CHF Hospital Stay (N = {})'.format(len(lab1)))\n",
    "plt.ylim([0, 3500])\n",
    "plt.xlabel('')\n",
    "plt.ylabel('')\n",
    "\n",
    "plt.subplot(2,2,3)\n",
    "sns.barplot(x = 'no of stays', y = 'prop', data = df0)\n",
    "plt.ylim([0, 1])\n",
    "plt.xlabel('# of hospital stays w/ ICU stays')\n",
    "plt.ylabel('probability')\n",
    "\n",
    "plt.subplot(2,2,4)\n",
    "sns.barplot(x = 'no of stays', y = 'prop', data = df1)\n",
    "plt.ylim([0, 1])\n",
    "plt.xlabel('# of hospital stays w/ ICU stays')\n",
    "plt.ylabel('')\n",
    "\n",
    "plt.suptitle('Number of CHF Hospital Stays w/ ICU Stays Per Patient', fontsize = 18, fontweight = 'bold')\n",
    "plt.show()"
   ]
  },
  {
   "cell_type": "markdown",
   "metadata": {},
   "source": [
    "### "
   ]
  },
  {
   "cell_type": "markdown",
   "metadata": {},
   "source": [
    "### 2. Total time in ICU Per Hospital Stay w/ ICU Stay"
   ]
  },
  {
   "cell_type": "code",
   "execution_count": 140,
   "metadata": {},
   "outputs": [
    {
     "data": {
      "image/png": "[encoded data removed]",
      "text/plain": [
       "<Figure size 936x360 with 2 Axes>"
      ]
     },
     "metadata": {},
     "output_type": "display_data"
    }
   ],
   "source": [
    "CHF_hosp_icu_stays['ICU_length'] = (CHF_hosp_icu_stays.out_time - CHF_hosp_icu_stays.in_time).dt.total_seconds()/86400\n",
    "\n",
    "CHF_hosp_icu_stays_label_0 = CHF_hosp_icu_stays[CHF_hosp_icu_stays.labels == 0]\n",
    "CHF_hosp_icu_stays_label_1 = CHF_hosp_icu_stays[CHF_hosp_icu_stays.labels == 1]\n",
    "\n",
    "plt.figure(figsize=(13, 5))\n",
    "\n",
    "plt.subplot(1,2,1)\n",
    "sns.histplot(data=CHF_hosp_icu_stays_label_0, x=\"ICU_length\", bins = 30)\n",
    "plt.title('Label 0: CHF Hospital Stays w/o Readmissions (N = {})'.format(len(CHF_hosp_icu_stays_label_0)))\n",
    "plt.ylim([0, 2700])\n",
    "plt.xlabel('days')\n",
    "\n",
    "plt.subplot(1,2,2)\n",
    "sns.histplot(data=CHF_hosp_icu_stays_label_1, x=\"ICU_length\", bins = 30)\n",
    "plt.ylim([0, 2700])\n",
    "plt.xlabel('days')\n",
    "plt.ylabel('')\n",
    "plt.title('Label 1: CHF Hospital Stays w/ Readmissions (N = {})'.format(len(CHF_hosp_icu_stays_label_1)))\n",
    "\n",
    "plt.suptitle('Total time in ICU Per Hospital Stay', fontsize = 18, fontweight = 'bold')\n",
    "plt.show()"
   ]
  },
  {
   "cell_type": "markdown",
   "metadata": {},
   "source": [
    "### 3. Total time in ICU Per Hospital Stay w/ ICU Stay (Zoomed in)"
   ]
  },
  {
   "cell_type": "code",
   "execution_count": 147,
   "metadata": {},
   "outputs": [
    {
     "data": {
      "image/png": "[encoded data removed]",
      "text/plain": [
       "<Figure size 1080x432 with 2 Axes>"
      ]
     },
     "metadata": {},
     "output_type": "display_data"
    }
   ],
   "source": [
    "CHF_hosp_icu_stays_label_0_40 = CHF_hosp_icu_stays_label_0[CHF_hosp_icu_stays_label_0.ICU_length < 41]\n",
    "CHF_hosp_icu_stays_label_1_40 = CHF_hosp_icu_stays_label_1[CHF_hosp_icu_stays_label_1.ICU_length < 41]\n",
    "\n",
    "plt.figure(figsize=(15,6))\n",
    "\n",
    "plt.subplot(1,2,1)\n",
    "sns.histplot(data=CHF_hosp_icu_stays_label_0_40, x=\"ICU_length\", bins=20)\n",
    "plt.title('Label 0: CHF Hospital Stays w/o Readmissions (N = {})'.format(len(CHF_hosp_icu_stays_label_0)))\n",
    "plt.ylim([0, 1700])\n",
    "plt.xlim([0, 40])\n",
    "plt.xlabel('days')\n",
    "\n",
    "plt.subplot(1,2,2)\n",
    "sns.histplot(data=CHF_hosp_icu_stays_label_1_40, x=\"ICU_length\", bins=20)\n",
    "plt.ylim([0, 1700])\n",
    "plt.xlim([0, 40])\n",
    "plt.xlabel('days')\n",
    "plt.ylabel('')\n",
    "plt.title('Label 1: CHF Hospital Stays w/ Readmissions (N = {})'.format(len(CHF_hosp_icu_stays_label_1)))\n",
    "\n",
    "plt.suptitle('Total time in ICU Per Hospital Stay (0-40 days)', fontsize = 18, fontweight = 'bold')\n",
    "plt.show()"
   ]
  },
  {
   "cell_type": "markdown",
   "metadata": {},
   "source": [
    "### 4. Days btw CHF Hospital Stay w/ ICU and its Next Readmission"
   ]
  },
  {
   "cell_type": "code",
   "execution_count": 150,
   "metadata": {},
   "outputs": [
    {
     "data": {
      "image/png": "[encoded data removed]",
      "text/plain": [
       "<Figure size 648x504 with 1 Axes>"
      ]
     },
     "metadata": {},
     "output_type": "display_data"
    }
   ],
   "source": [
    "CHF_adm_label_1 = CHF_adm[CHF_adm['labels'] == 1]\n",
    "plt.figure(figsize = (9, 7))\n",
    "sns.histplot(data=CHF_adm_label_1, x=\"time_bt\", bins = 30)\n",
    "plt.title('Days btw CHF Hospital Stay and Next Readmission (N = {})'.format(len(CHF_hosp_icu_stays_label_1)), fontsize = 15, fontweight = 'bold')\n",
    "plt.xlabel('days')\n",
    "plt.show()"
   ]
  },
  {
   "cell_type": "code",
   "execution_count": null,
   "metadata": {},
   "outputs": [],
   "source": []
  }
 ],
 "metadata": {
  "kernelspec": {
   "display_name": "Python 3",
   "language": "python",
   "name": "python3"
  },
  "language_info": {
   "codemirror_mode": {
    "name": "ipython",
    "version": 3
   },
   "file_extension": ".py",
   "mimetype": "text/x-python",
   "name": "python",
   "nbconvert_exporter": "python",
   "pygments_lexer": "ipython3",
   "version": "3.8.5"
  }
 },
 "nbformat": 4,
 "nbformat_minor": 4
}
